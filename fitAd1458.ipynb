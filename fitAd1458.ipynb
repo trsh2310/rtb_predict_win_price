{
 "cells": [
  {
   "cell_type": "code",
   "execution_count": 1,
   "id": "17a733f8-e8ac-46c2-9076-2c0050a151ba",
   "metadata": {
    "ExecuteTime": {
     "end_time": "2025-03-31T18:03:49.322361Z",
     "start_time": "2025-03-31T18:03:49.079161Z"
    }
   },
   "outputs": [],
   "source": [
    "import pandas as pd\n",
    "import numpy as np\n",
    "from catboost import CatBoostRegressor, Pool\n",
    "from matplotlib import pyplot as plt\n",
    "from sklearn.metrics import mean_squared_error, mean_absolute_error\n",
    "from sklearn.model_selection import train_test_split\n",
    "from user_agents import parse"
   ]
  },
  {
   "cell_type": "code",
   "execution_count": 2,
   "id": "5aedc22a-8295-4e80-8054-9de524daefcb",
   "metadata": {
    "ExecuteTime": {
     "end_time": "2025-03-31T18:05:06.494803Z",
     "start_time": "2025-03-31T18:03:49.325399Z"
    }
   },
   "outputs": [],
   "source": [
    "data = pd.read_csv('data/final_data.csv', sep=\",\", header = 0)"
   ]
  },
  {
   "cell_type": "code",
   "execution_count": 3,
   "id": "9994b901-a254-4ade-9043-12ce35058117",
   "metadata": {
    "ExecuteTime": {
     "end_time": "2025-03-31T18:05:07.016951Z",
     "start_time": "2025-03-31T18:05:07.014683Z"
    }
   },
   "outputs": [],
   "source": [
    "data_columns = [\n",
    "    \"Bid ID\", \"Timestamp\", \"Log type\", \"iPinYou ID\", \"User-Agent\", \"IP\",\n",
    "    \"Region\", \"City\", \"Ad exchange\", \"Domain\", \"URL\", \"Anonymous URL ID\",\n",
    "    \"Ad slot ID\", \"Ad slot width\", \"Ad slot height\", \"Ad slot visibility\",\n",
    "    \"Ad slot format\", \"Ad slot floor price\", \"Creative ID\", \"Bidding price\",\n",
    "    \"Paying price\", \"Key page URL\", \"Advertiser ID\", \"User Tags\", 'All paying price',\n",
    "]\n",
    "columns_to_drop = [\n",
    "    \"Bid ID\", \"iPinYou ID\", \"User-Agent\", \"IP\", \"URL\", \"Log type\", \"Timestamp\",\n",
    "    \"Anonymous URL ID\", \"Creative ID\", \"Key page URL\", \"Ad slot ID\", \"Advertiser ID\", 'All paying price', \"User Tags\",\n",
    "]\n",
    "categorical_features = [\n",
    "    'City', 'Region', 'Ad exchange', 'Ad slot visibility', 'Ad slot format', \"Hour\", \"Weekday\", \"Domain\", \"os\", \"device\", \"device_type\", \"browser\"]\n"
   ]
  },
  {
   "cell_type": "code",
   "execution_count": 4,
   "id": "07e45dc1-f648-49e3-aeb8-04887b8a5fd3",
   "metadata": {
    "ExecuteTime": {
     "end_time": "2025-03-31T18:05:18.563912Z",
     "start_time": "2025-03-31T18:05:07.022389Z"
    }
   },
   "outputs": [],
   "source": [
    "#data = data.drop_duplicates()\n",
    "data = data[data['Advertiser ID'] == 1458]\n",
    "data = data[data[\"Paying price\"] > 0]"
   ]
  },
  {
   "cell_type": "code",
   "execution_count": 5,
   "id": "250e7d70-987b-43be-9fbd-d558f51571ad",
   "metadata": {
    "ExecuteTime": {
     "end_time": "2025-03-31T18:05:18.581987Z",
     "start_time": "2025-03-31T18:05:18.579267Z"
    }
   },
   "outputs": [],
   "source": [
    "def parse_timestamp(ts):\n",
    "    ts_str = str(ts)\n",
    "    year = int(ts_str[:4])\n",
    "    month = int(ts_str[4:6])\n",
    "    day = int(ts_str[6:8])\n",
    "    hour = int(ts_str[8:10])\n",
    "    minute = int(ts_str[10:12])\n",
    "    return pd.Timestamp(year=year, month=month, day=day, hour=hour, minute=minute)\n"
   ]
  },
  {
   "cell_type": "code",
   "execution_count": 6,
   "id": "ed424f86-3dab-4423-a24b-09d35bea9c9d",
   "metadata": {
    "ExecuteTime": {
     "end_time": "2025-03-31T18:05:28.119253Z",
     "start_time": "2025-03-31T18:05:18.587895Z"
    }
   },
   "outputs": [],
   "source": [
    "data['Timestamp'] = data['Timestamp'].apply(parse_timestamp)\n",
    "data['Hour'] = data['Timestamp'].dt.hour\n",
    "data['Weekday'] = data['Timestamp'].dt.weekday"
   ]
  },
  {
   "cell_type": "code",
   "execution_count": 7,
   "id": "425f19bafe79d87d",
   "metadata": {
    "ExecuteTime": {
     "end_time": "2025-03-31T18:06:06.016020Z",
     "start_time": "2025-03-31T18:05:28.134029Z"
    }
   },
   "outputs": [],
   "source": [
    "tag_names = {\n",
    "    '10006': 'Long-term interest/news',\n",
    "    '10024': 'Long-term interest/education',\n",
    "    '10031': 'Long-term interest/automobile',\n",
    "    '10048': 'Long-term interest/real estate',\n",
    "    '10052': 'Long-term interest/IT',\n",
    "    '10057': 'Long-term interest/electronic game',\n",
    "    '10059': 'Long-term interest/fashion',\n",
    "    '10063': 'Long-term interest/entertainment',\n",
    "    '10067': 'Long-term interest/luxury',\n",
    "    '10074': 'Long-term interest/home and lifestyle',\n",
    "    '10075': 'Long-term interest/health',\n",
    "    '10076': 'Long-term interest/food',\n",
    "    '10077': 'Long-term interest/divine',\n",
    "    '10079': 'Long-term interest/motherhood&parenting',\n",
    "    '10083': 'Long-term interest/sports',\n",
    "    '10093': 'Long-term interest/travel&outdoors',\n",
    "    '10102': 'Long-term interest/social',\n",
    "    '10684': 'In-market/3c product',\n",
    "    '11092': 'In-market/appliances',\n",
    "    '11278': 'In-market/clothing, shoes&bags',\n",
    "    '11379': 'In-market/Beauty & Personal Care',\n",
    "    '11423': 'In-market/household & home improvement',\n",
    "    '11512': 'In-market/infant & mom products',\n",
    "    '11576': 'In-market/sports item',\n",
    "    '11632': 'In-market/outdoor',\n",
    "    '11680': 'In-market/health care products',\n",
    "    '11724': 'In-market/luxury',\n",
    "    '11944': 'In-market/real estate',\n",
    "    '13042': 'In-market/automobile',\n",
    "    '13403': 'In-market/finance',\n",
    "    '13496': 'In-market/travel',\n",
    "    '13678': 'In-market/education',\n",
    "    '13776': 'In-market/service',\n",
    "    '13800': 'Long-term interest/art & photography & design',\n",
    "    '13866': 'Long-term interest/online literature',\n",
    "    '13874': 'In-market/electronic game',\n",
    "    '14273': 'Long-term interest/3c',\n",
    "    '16593': 'In-market/book',\n",
    "    '16617': 'In-market/medicine',\n",
    "    '16661': 'In-market/food & drink',\n",
    "    '16706': 'Long-term interest/culture',\n",
    "    '10110': 'Demographic/gender/male',\n",
    "    '10111': 'Demographic/gender/female'\n",
    "}\n",
    "data['User Tags'] = data['User Tags'].fillna('').astype(str)\n",
    "\n",
    "for tag, name in tag_names.items():\n",
    "    data[name] = data['User Tags'].apply(lambda x: 1 if tag in x.split(',') else 0)"
   ]
  },
  {
   "cell_type": "code",
   "execution_count": 8,
   "id": "3f14f4df56a5896c",
   "metadata": {
    "ExecuteTime": {
     "end_time": "2025-03-31T18:06:10.295637Z",
     "start_time": "2025-03-31T18:06:06.043219Z"
    }
   },
   "outputs": [
    {
     "name": "stdout",
     "output_type": "stream",
     "text": [
      "Bid ID                        3077010\n",
      "Timestamp                        4670\n",
      "Log type                            1\n",
      "iPinYou ID                    2831676\n",
      "IP                             497933\n",
      "                               ...   \n",
      "In-market/medicine                  2\n",
      "In-market/food & drink              2\n",
      "Long-term interest/culture          2\n",
      "Demographic/gender/male             2\n",
      "Demographic/gender/female           2\n",
      "Length: 73, dtype: int64\n"
     ]
    }
   ],
   "source": [
    "print(data.nunique())"
   ]
  },
  {
   "cell_type": "code",
   "execution_count": 9,
   "id": "4a8b7eca-3a52-42c9-96eb-e8e364da0b61",
   "metadata": {
    "ExecuteTime": {
     "end_time": "2025-03-31T18:06:11.837296Z",
     "start_time": "2025-03-31T18:06:10.320219Z"
    }
   },
   "outputs": [],
   "source": [
    "data = data.drop(columns=columns_to_drop, errors='ignore')"
   ]
  },
  {
   "cell_type": "code",
   "execution_count": 10,
   "id": "c3d154b60431240f",
   "metadata": {
    "ExecuteTime": {
     "end_time": "2025-03-31T17:50:09.662630Z",
     "start_time": "2025-03-31T17:50:09.013112Z"
    }
   },
   "outputs": [
    {
     "name": "stdout",
     "output_type": "stream",
     "text": [
      "Region                                              35\n",
      "City                                               370\n",
      "Ad exchange                                          3\n",
      "Domain                                           13462\n",
      "Ad slot width                                        8\n",
      "Ad slot height                                       5\n",
      "Ad slot visibility                                   4\n",
      "Ad slot format                                       2\n",
      "Ad slot floor price                                184\n",
      "Bidding price                                        1\n",
      "Paying price                                       300\n",
      "device                                            2774\n",
      "os                                                  29\n",
      "browser                                             77\n",
      "device_type                                          5\n",
      "Hour                                                24\n",
      "Weekday                                              7\n",
      "Long-term interest/news                              2\n",
      "Long-term interest/education                         2\n",
      "Long-term interest/automobile                        2\n",
      "Long-term interest/real estate                       2\n",
      "Long-term interest/IT                                2\n",
      "Long-term interest/electronic game                   2\n",
      "Long-term interest/fashion                           2\n",
      "Long-term interest/entertainment                     2\n",
      "Long-term interest/luxury                            2\n",
      "Long-term interest/home and lifestyle                2\n",
      "Long-term interest/health                            2\n",
      "Long-term interest/food                              2\n",
      "Long-term interest/divine                            2\n",
      "Long-term interest/motherhood&parenting              2\n",
      "Long-term interest/sports                            2\n",
      "Long-term interest/travel&outdoors                   2\n",
      "Long-term interest/social                            2\n",
      "In-market/3c product                                 2\n",
      "In-market/appliances                                 2\n",
      "In-market/clothing, shoes&bags                       2\n",
      "In-market/Beauty & Personal Care                     2\n",
      "In-market/household & home improvement               2\n",
      "In-market/infant & mom products                      2\n",
      "In-market/sports item                                2\n",
      "In-market/outdoor                                    2\n",
      "In-market/health care products                       2\n",
      "In-market/luxury                                     2\n",
      "In-market/real estate                                2\n",
      "In-market/automobile                                 2\n",
      "In-market/finance                                    2\n",
      "In-market/travel                                     2\n",
      "In-market/education                                  2\n",
      "In-market/service                                    2\n",
      "Long-term interest/art & photography & design        2\n",
      "Long-term interest/online literature                 2\n",
      "In-market/electronic game                            2\n",
      "Long-term interest/3c                                2\n",
      "In-market/book                                       2\n",
      "In-market/medicine                                   2\n",
      "In-market/food & drink                               2\n",
      "Long-term interest/culture                           2\n",
      "Demographic/gender/male                              2\n",
      "Demographic/gender/female                            2\n",
      "dtype: int64\n"
     ]
    }
   ],
   "source": [
    "print(data.nunique())"
   ]
  },
  {
   "cell_type": "code",
   "execution_count": 10,
   "id": "17cba8b6-d5f6-469a-bdea-21cd5032785b",
   "metadata": {
    "ExecuteTime": {
     "end_time": "2025-03-31T18:06:19.321779Z",
     "start_time": "2025-03-31T18:06:11.852134Z"
    }
   },
   "outputs": [
    {
     "name": "stdout",
     "output_type": "stream",
     "text": [
      "Train size: 2466433\n",
      "Test size: 616609\n"
     ]
    }
   ],
   "source": [
    "for col in categorical_features:\n",
    "    data[col] = data[col].fillna(\"missing\").astype(str)\n",
    "X = data.drop(columns=['Paying price'], errors='ignore')\n",
    "y = data['Paying price']\n",
    "X_train, X_test, y_train, y_test = train_test_split(X, y, test_size=0.2, random_state=42 )\n",
    "print(\"Train size:\", len(X_train))\n",
    "print(\"Test size:\", len(X_test))"
   ]
  },
  {
   "cell_type": "code",
   "execution_count": 12,
   "id": "a9a45e23-b57c-4bfa-80eb-7ea0a1f58254",
   "metadata": {
    "ExecuteTime": {
     "end_time": "2025-03-31T17:50:18.062453Z",
     "start_time": "2025-03-31T17:50:15.560581Z"
    }
   },
   "outputs": [
    {
     "name": "stdout",
     "output_type": "stream",
     "text": [
      "95573\n"
     ]
    }
   ],
   "source": [
    "print(data.duplicated().sum())"
   ]
  },
  {
   "cell_type": "code",
   "execution_count": 13,
   "id": "29ac05d6-1610-4c84-88fc-b7032893a202",
   "metadata": {
    "ExecuteTime": {
     "end_time": "2025-03-31T17:50:18.892275Z",
     "start_time": "2025-03-31T17:50:18.080171Z"
    }
   },
   "outputs": [
    {
     "name": "stdout",
     "output_type": "stream",
     "text": [
      "Region                                           0\n",
      "City                                             0\n",
      "Ad exchange                                      0\n",
      "Domain                                           0\n",
      "Ad slot width                                    0\n",
      "Ad slot height                                   0\n",
      "Ad slot visibility                               0\n",
      "Ad slot format                                   0\n",
      "Ad slot floor price                              0\n",
      "Bidding price                                    0\n",
      "Paying price                                     0\n",
      "device                                           0\n",
      "os                                               0\n",
      "browser                                          0\n",
      "device_type                                      0\n",
      "Hour                                             0\n",
      "Weekday                                          0\n",
      "Long-term interest/news                          0\n",
      "Long-term interest/education                     0\n",
      "Long-term interest/automobile                    0\n",
      "Long-term interest/real estate                   0\n",
      "Long-term interest/IT                            0\n",
      "Long-term interest/electronic game               0\n",
      "Long-term interest/fashion                       0\n",
      "Long-term interest/entertainment                 0\n",
      "Long-term interest/luxury                        0\n",
      "Long-term interest/home and lifestyle            0\n",
      "Long-term interest/health                        0\n",
      "Long-term interest/food                          0\n",
      "Long-term interest/divine                        0\n",
      "Long-term interest/motherhood&parenting          0\n",
      "Long-term interest/sports                        0\n",
      "Long-term interest/travel&outdoors               0\n",
      "Long-term interest/social                        0\n",
      "In-market/3c product                             0\n",
      "In-market/appliances                             0\n",
      "In-market/clothing, shoes&bags                   0\n",
      "In-market/Beauty & Personal Care                 0\n",
      "In-market/household & home improvement           0\n",
      "In-market/infant & mom products                  0\n",
      "In-market/sports item                            0\n",
      "In-market/outdoor                                0\n",
      "In-market/health care products                   0\n",
      "In-market/luxury                                 0\n",
      "In-market/real estate                            0\n",
      "In-market/automobile                             0\n",
      "In-market/finance                                0\n",
      "In-market/travel                                 0\n",
      "In-market/education                              0\n",
      "In-market/service                                0\n",
      "Long-term interest/art & photography & design    0\n",
      "Long-term interest/online literature             0\n",
      "In-market/electronic game                        0\n",
      "Long-term interest/3c                            0\n",
      "In-market/book                                   0\n",
      "In-market/medicine                               0\n",
      "In-market/food & drink                           0\n",
      "Long-term interest/culture                       0\n",
      "Demographic/gender/male                          0\n",
      "Demographic/gender/female                        0\n",
      "dtype: int64\n"
     ]
    }
   ],
   "source": [
    "print(data.isnull().sum())"
   ]
  },
  {
   "cell_type": "code",
   "execution_count": 14,
   "id": "faee1450-d64d-47b1-b5fc-9d3091db2698",
   "metadata": {
    "ExecuteTime": {
     "end_time": "2025-03-31T17:50:18.909567Z",
     "start_time": "2025-03-31T17:50:18.907462Z"
    }
   },
   "outputs": [],
   "source": [
    "missing_cols = set(categorical_features) - set(X_train.columns)\n",
    "if missing_cols:\n",
    "    raise ValueError(f\"Следующие категориальные признаки отсутствуют в данных: {missing_cols}\")"
   ]
  },
  {
   "cell_type": "code",
   "execution_count": 11,
   "id": "fad278df-1644-4241-8f62-3ce772162479",
   "metadata": {
    "ExecuteTime": {
     "end_time": "2025-03-31T18:06:22.927271Z",
     "start_time": "2025-03-31T18:06:19.346523Z"
    }
   },
   "outputs": [],
   "source": [
    "train_pool = Pool(X_train, y_train, cat_features=[X_train.columns.get_loc(col) for col in categorical_features])\n",
    "test_pool = Pool(X_test, y_test, cat_features = [X_train.columns.get_loc(col) for col in categorical_features])"
   ]
  },
  {
   "cell_type": "code",
   "execution_count": 16,
   "id": "2528af50-3666-4998-a6e3-f7a0f8386a5c",
   "metadata": {
    "ExecuteTime": {
     "end_time": "2025-03-31T17:50:22.185476Z",
     "start_time": "2025-03-31T17:50:22.131661Z"
    }
   },
   "outputs": [
    {
     "name": "stdout",
     "output_type": "stream",
     "text": [
      "count    3.083042e+06\n",
      "mean     6.889307e+01\n",
      "std      5.345729e+01\n",
      "min      1.000000e+00\n",
      "25%      3.200000e+01\n",
      "50%      6.000000e+01\n",
      "75%      8.000000e+01\n",
      "max      3.000000e+02\n",
      "Name: Paying price, dtype: float64\n"
     ]
    }
   ],
   "source": [
    "print(data['Paying price'].describe())"
   ]
  },
  {
   "cell_type": "code",
   "execution_count": null,
   "id": "1908a9d2-b168-4de1-bfc7-169976953ea7",
   "metadata": {
    "ExecuteTime": {
     "end_time": "2025-03-31T18:21:14.533999Z",
     "start_time": "2025-03-31T18:08:54.203968Z"
    }
   },
   "outputs": [
    {
     "name": "stdout",
     "output_type": "stream",
     "text": [
      "0:\tlearn: 46.2234009\ttest: 46.1800662\tbest: 46.1800662 (0)\ttotal: 1.4s\tremaining: 23m 15s\n",
      "200:\tlearn: 40.6206186\ttest: 40.8718784\tbest: 40.8718784 (200)\ttotal: 5m 30s\tremaining: 21m 54s\n",
      "400:\tlearn: 40.0788507\ttest: 40.8164073\tbest: 40.8010343 (372)\ttotal: 11m 7s\tremaining: 16m 37s\n",
      "Stopped by overfitting detector  (50 iterations wait)\n",
      "\n",
      "bestTest = 40.8010343\n",
      "bestIteration = 372\n",
      "\n",
      "Shrink model to first 373 iterations.\n",
      "True\n",
      "{'iterations': 1000, 'learning_rate': 0.9, 'depth': 8, 'l2_leaf_reg': 2, 'loss_function': 'RMSE', 'od_wait': 50, 'od_type': 'Iter', 'random_seed': 42, 'use_best_model': True, 'verbose': 200, 'one_hot_max_size': 10, 'random_strength': 1, 'bagging_temperature': 1}\n"
     ]
    }
   ],
   "source": [
    "model = CatBoostRegressor(\n",
    "    iterations=1000,\n",
    "    learning_rate=0.9,  \n",
    "    depth=8,      \n",
    "    l2_leaf_reg=2,  \n",
    "    bagging_temperature=1,  \n",
    "    random_strength=1,   \n",
    "    one_hot_max_size=10,  \n",
    "    loss_function='RMSE', \n",
    "    od_type='Iter', \n",
    "    od_wait=50, \n",
    "    use_best_model=True,  \n",
    "    random_seed=42,            \n",
    "    verbose=200,\n",
    ")\n",
    "model.fit(train_pool, eval_set=test_pool)\n",
    "print(model.is_fitted())\n",
    "print(model.get_params())"
   ]
  },
  {
   "cell_type": "code",
   "execution_count": null,
   "id": "a37c34c3-7bf8-41f8-8f8a-87130311015d",
   "metadata": {},
   "outputs": [],
   "source": []
  },
  {
   "cell_type": "code",
   "execution_count": 14,
   "id": "e96c8b67-d97a-49c4-bf5c-51d0a7a78f42",
   "metadata": {
    "ExecuteTime": {
     "end_time": "2025-03-31T18:21:22.800947Z",
     "start_time": "2025-03-31T18:21:15.249881Z"
    }
   },
   "outputs": [
    {
     "name": "stdout",
     "output_type": "stream",
     "text": [
      "Важность факторов:\n",
      "                                       Feature Id  Importances\n",
      "0                                          Domain    39.714798\n",
      "1                             Ad slot floor price    16.429791\n",
      "2                                   Ad slot width    10.572693\n",
      "3                                         Weekday     7.343192\n",
      "4                                            Hour     5.874286\n",
      "5                                     Ad exchange     4.137674\n",
      "6                              Ad slot visibility     3.444307\n",
      "7                                  Ad slot height     2.466757\n",
      "8                                          Region     1.531269\n",
      "9                                            City     1.307206\n",
      "10                                        browser     1.032699\n",
      "11                   Long-term interest/education     0.786901\n",
      "12                                             os     0.693890\n",
      "13           Long-term interest/online literature     0.615326\n",
      "14                                         device     0.463937\n",
      "15                                 Ad slot format     0.425268\n",
      "16               Long-term interest/entertainment     0.321205\n",
      "17                        Long-term interest/news     0.304480\n",
      "18  Long-term interest/art & photography & design     0.215116\n",
      "19                              In-market/service     0.204155\n",
      "20                        Long-term interest/food     0.185859\n",
      "21                           In-market/automobile     0.182476\n",
      "22                          Long-term interest/3c     0.167882\n",
      "23                      Demographic/gender/female     0.156955\n",
      "24                          Long-term interest/IT     0.105815\n",
      "25                      Long-term interest/divine     0.096777\n",
      "26                     Long-term interest/fashion     0.094963\n",
      "27                        Demographic/gender/male     0.094896\n",
      "28                      Long-term interest/sports     0.094677\n",
      "29                                    device_type     0.076620\n",
      "30                  Long-term interest/automobile     0.059091\n",
      "31                 Long-term interest/real estate     0.057830\n",
      "32             Long-term interest/electronic game     0.057480\n",
      "33                            In-market/education     0.056634\n",
      "34                          In-market/sports item     0.055047\n",
      "35                      Long-term interest/social     0.053871\n",
      "36                      Long-term interest/health     0.050137\n",
      "37             Long-term interest/travel&outdoors     0.047827\n",
      "38                           In-market/appliances     0.044055\n",
      "39        Long-term interest/motherhood&parenting     0.041074\n",
      "40                              In-market/finance     0.040129\n",
      "41          Long-term interest/home and lifestyle     0.039749\n",
      "42                         In-market/food & drink     0.030445\n",
      "43                               In-market/travel     0.030124\n",
      "44                 In-market/clothing, shoes&bags     0.023803\n",
      "45               In-market/Beauty & Personal Care     0.021704\n",
      "46                          In-market/real estate     0.018492\n",
      "47                           In-market/3c product     0.017122\n",
      "48                               In-market/luxury     0.016668\n",
      "49                     Long-term interest/culture     0.015943\n",
      "50                      Long-term interest/luxury     0.015610\n",
      "51                             In-market/medicine     0.014701\n",
      "52                      In-market/electronic game     0.013648\n",
      "53                              In-market/outdoor     0.010634\n",
      "54         In-market/household & home improvement     0.009833\n",
      "55                                 In-market/book     0.005879\n",
      "56                 In-market/health care products     0.005525\n",
      "57                In-market/infant & mom products     0.005075\n",
      "58                                  Bidding price     0.000000\n"
     ]
    }
   ],
   "source": [
    "predictions = model.predict(X_test)\n",
    "feature_importances = model.get_feature_importance(prettified = True)\n",
    "print(\"Важность факторов:\")\n",
    "print(feature_importances)"
   ]
  },
  {
   "cell_type": "code",
   "execution_count": null,
   "id": "6d580d31-45c3-4e39-b3fa-b5048e225af5",
   "metadata": {},
   "outputs": [],
   "source": [
    "high_error_mask = (np.abs(y_test - predictions) > 100)\n",
    "high_error_data = X_test[high_error_mask].copy()\n",
    "high_error_data['True'] = y_test[high_error_mask]\n",
    "high_error_data['Predicted'] = predictions[high_error_mask]\n",
    "print(high_error_data[['Ad slot width', 'Ad slot visibility', 'Ad slot format', 'True', 'Predicted']])"
   ]
  },
  {
   "cell_type": "code",
   "execution_count": null,
   "id": "88a72e8c-b139-4fb3-8d41-3c8062eec26e",
   "metadata": {},
   "outputs": [],
   "source": [
    "print(data['Paying price'].describe())"
   ]
  },
  {
   "cell_type": "code",
   "execution_count": 15,
   "id": "5234393e-2467-46fd-807b-dc9446cf0618",
   "metadata": {
    "ExecuteTime": {
     "end_time": "2025-03-31T18:23:56.291107Z",
     "start_time": "2025-03-31T18:23:56.225207Z"
    }
   },
   "outputs": [],
   "source": [
    "data['Paying price log'] = np.log1p(data['Paying price'])"
   ]
  },
  {
   "cell_type": "code",
   "execution_count": 16,
   "id": "b82645f6431d19d5",
   "metadata": {
    "ExecuteTime": {
     "end_time": "2025-03-31T18:24:08.147395Z",
     "start_time": "2025-03-31T18:23:57.918156Z"
    }
   },
   "outputs": [],
   "source": [
    "X_train, X_test, y_train, y_test = train_test_split(X, data['Paying price log'], test_size=0.2, random_state=42 )\n",
    "train_pool = Pool(X_train, y_train, cat_features=[X_train.columns.get_loc(col) for col in categorical_features])\n",
    "test_pool = Pool(X_test, y_test, cat_features = [X_train.columns.get_loc(col) for col in categorical_features])"
   ]
  },
  {
   "cell_type": "code",
   "execution_count": 20,
   "id": "4cb33a38f444698e",
   "metadata": {
    "ExecuteTime": {
     "end_time": "2025-03-31T21:48:23.773130Z",
     "start_time": "2025-03-31T21:34:34.624124Z"
    }
   },
   "outputs": [
    {
     "name": "stdout",
     "output_type": "stream",
     "text": [
      "0:\tlearn: 0.7168260\ttest: 0.7173641\tbest: 0.7173641 (0)\ttotal: 8.93s\tremaining: 2h 28m 36s\n"
     ]
    },
    {
     "ename": "KeyboardInterrupt",
     "evalue": "",
     "output_type": "error",
     "traceback": [
      "\u001b[0;31m---------------------------------------------------------------------------\u001b[0m",
      "\u001b[0;31mKeyboardInterrupt\u001b[0m                         Traceback (most recent call last)",
      "Cell \u001b[0;32mIn[20], line 17\u001b[0m\n\u001b[1;32m      1\u001b[0m model \u001b[38;5;241m=\u001b[39m CatBoostRegressor(\n\u001b[1;32m      2\u001b[0m     iterations\u001b[38;5;241m=\u001b[39m\u001b[38;5;241m1000\u001b[39m,            \u001b[38;5;66;03m# Максимальное число итераций\u001b[39;00m\n\u001b[1;32m      3\u001b[0m     learning_rate\u001b[38;5;241m=\u001b[39m\u001b[38;5;241m0.8\u001b[39m,         \u001b[38;5;66;03m# Скорость обучения\u001b[39;00m\n\u001b[0;32m   (...)\u001b[0m\n\u001b[1;32m     15\u001b[0m     \u001b[38;5;66;03m# task_type='GPU',\u001b[39;00m\n\u001b[1;32m     16\u001b[0m )\n\u001b[0;32m---> 17\u001b[0m \u001b[43mmodel\u001b[49m\u001b[38;5;241;43m.\u001b[39;49m\u001b[43mfit\u001b[49m\u001b[43m(\u001b[49m\u001b[43mtrain_pool\u001b[49m\u001b[43m,\u001b[49m\u001b[43m \u001b[49m\u001b[43meval_set\u001b[49m\u001b[38;5;241;43m=\u001b[39;49m\u001b[43mtest_pool\u001b[49m\u001b[43m)\u001b[49m\n\u001b[1;32m     18\u001b[0m \u001b[38;5;28mprint\u001b[39m(model\u001b[38;5;241m.\u001b[39mis_fitted())\n\u001b[1;32m     19\u001b[0m \u001b[38;5;28mprint\u001b[39m(model\u001b[38;5;241m.\u001b[39mget_params())\n",
      "File \u001b[0;32m/Library/Python/3.9/site-packages/catboost/core.py:5873\u001b[0m, in \u001b[0;36mCatBoostRegressor.fit\u001b[0;34m(self, X, y, cat_features, text_features, embedding_features, graph, sample_weight, baseline, use_best_model, eval_set, verbose, logging_level, plot, plot_file, column_description, verbose_eval, metric_period, silent, early_stopping_rounds, save_snapshot, snapshot_file, snapshot_interval, init_model, callbacks, log_cout, log_cerr)\u001b[0m\n\u001b[1;32m   5871\u001b[0m \u001b[38;5;28;01mif\u001b[39;00m \u001b[38;5;124m'\u001b[39m\u001b[38;5;124mloss_function\u001b[39m\u001b[38;5;124m'\u001b[39m \u001b[38;5;129;01min\u001b[39;00m params:\n\u001b[1;32m   5872\u001b[0m     CatBoostRegressor\u001b[38;5;241m.\u001b[39m_check_is_compatible_loss(params[\u001b[38;5;124m'\u001b[39m\u001b[38;5;124mloss_function\u001b[39m\u001b[38;5;124m'\u001b[39m])\n\u001b[0;32m-> 5873\u001b[0m \u001b[38;5;28;01mreturn\u001b[39;00m \u001b[38;5;28;43mself\u001b[39;49m\u001b[38;5;241;43m.\u001b[39;49m\u001b[43m_fit\u001b[49m\u001b[43m(\u001b[49m\u001b[43mX\u001b[49m\u001b[43m,\u001b[49m\u001b[43m \u001b[49m\u001b[43my\u001b[49m\u001b[43m,\u001b[49m\u001b[43m \u001b[49m\u001b[43mcat_features\u001b[49m\u001b[43m,\u001b[49m\u001b[43m \u001b[49m\u001b[43mtext_features\u001b[49m\u001b[43m,\u001b[49m\u001b[43m \u001b[49m\u001b[43membedding_features\u001b[49m\u001b[43m,\u001b[49m\u001b[43m \u001b[49m\u001b[38;5;28;43;01mNone\u001b[39;49;00m\u001b[43m,\u001b[49m\u001b[43m \u001b[49m\u001b[43mgraph\u001b[49m\u001b[43m,\u001b[49m\u001b[43m \u001b[49m\u001b[43msample_weight\u001b[49m\u001b[43m,\u001b[49m\u001b[43m \u001b[49m\u001b[38;5;28;43;01mNone\u001b[39;49;00m\u001b[43m,\u001b[49m\u001b[43m \u001b[49m\u001b[38;5;28;43;01mNone\u001b[39;49;00m\u001b[43m,\u001b[49m\u001b[43m \u001b[49m\u001b[38;5;28;43;01mNone\u001b[39;49;00m\u001b[43m,\u001b[49m\u001b[43m \u001b[49m\u001b[38;5;28;43;01mNone\u001b[39;49;00m\u001b[43m,\u001b[49m\u001b[43m \u001b[49m\u001b[43mbaseline\u001b[49m\u001b[43m,\u001b[49m\n\u001b[1;32m   5874\u001b[0m \u001b[43m                 \u001b[49m\u001b[43muse_best_model\u001b[49m\u001b[43m,\u001b[49m\u001b[43m \u001b[49m\u001b[43meval_set\u001b[49m\u001b[43m,\u001b[49m\u001b[43m \u001b[49m\u001b[43mverbose\u001b[49m\u001b[43m,\u001b[49m\u001b[43m \u001b[49m\u001b[43mlogging_level\u001b[49m\u001b[43m,\u001b[49m\u001b[43m \u001b[49m\u001b[43mplot\u001b[49m\u001b[43m,\u001b[49m\u001b[43m \u001b[49m\u001b[43mplot_file\u001b[49m\u001b[43m,\u001b[49m\u001b[43m \u001b[49m\u001b[43mcolumn_description\u001b[49m\u001b[43m,\u001b[49m\n\u001b[1;32m   5875\u001b[0m \u001b[43m                 \u001b[49m\u001b[43mverbose_eval\u001b[49m\u001b[43m,\u001b[49m\u001b[43m \u001b[49m\u001b[43mmetric_period\u001b[49m\u001b[43m,\u001b[49m\u001b[43m \u001b[49m\u001b[43msilent\u001b[49m\u001b[43m,\u001b[49m\u001b[43m \u001b[49m\u001b[43mearly_stopping_rounds\u001b[49m\u001b[43m,\u001b[49m\n\u001b[1;32m   5876\u001b[0m \u001b[43m                 \u001b[49m\u001b[43msave_snapshot\u001b[49m\u001b[43m,\u001b[49m\u001b[43m \u001b[49m\u001b[43msnapshot_file\u001b[49m\u001b[43m,\u001b[49m\u001b[43m \u001b[49m\u001b[43msnapshot_interval\u001b[49m\u001b[43m,\u001b[49m\u001b[43m \u001b[49m\u001b[43minit_model\u001b[49m\u001b[43m,\u001b[49m\u001b[43m \u001b[49m\u001b[43mcallbacks\u001b[49m\u001b[43m,\u001b[49m\u001b[43m \u001b[49m\u001b[43mlog_cout\u001b[49m\u001b[43m,\u001b[49m\u001b[43m \u001b[49m\u001b[43mlog_cerr\u001b[49m\u001b[43m)\u001b[49m\n",
      "File \u001b[0;32m/Library/Python/3.9/site-packages/catboost/core.py:2410\u001b[0m, in \u001b[0;36mCatBoost._fit\u001b[0;34m(self, X, y, cat_features, text_features, embedding_features, pairs, graph, sample_weight, group_id, group_weight, subgroup_id, pairs_weight, baseline, use_best_model, eval_set, verbose, logging_level, plot, plot_file, column_description, verbose_eval, metric_period, silent, early_stopping_rounds, save_snapshot, snapshot_file, snapshot_interval, init_model, callbacks, log_cout, log_cerr)\u001b[0m\n\u001b[1;32m   2407\u001b[0m allow_clear_pool \u001b[38;5;241m=\u001b[39m train_params[\u001b[38;5;124m\"\u001b[39m\u001b[38;5;124mallow_clear_pool\u001b[39m\u001b[38;5;124m\"\u001b[39m]\n\u001b[1;32m   2409\u001b[0m \u001b[38;5;28;01mwith\u001b[39;00m plot_wrapper(plot, plot_file, \u001b[38;5;124m'\u001b[39m\u001b[38;5;124mTraining plots\u001b[39m\u001b[38;5;124m'\u001b[39m, [_get_train_dir(\u001b[38;5;28mself\u001b[39m\u001b[38;5;241m.\u001b[39mget_params())]):\n\u001b[0;32m-> 2410\u001b[0m     \u001b[38;5;28;43mself\u001b[39;49m\u001b[38;5;241;43m.\u001b[39;49m\u001b[43m_train\u001b[49m\u001b[43m(\u001b[49m\n\u001b[1;32m   2411\u001b[0m \u001b[43m        \u001b[49m\u001b[43mtrain_pool\u001b[49m\u001b[43m,\u001b[49m\n\u001b[1;32m   2412\u001b[0m \u001b[43m        \u001b[49m\u001b[43mtrain_params\u001b[49m\u001b[43m[\u001b[49m\u001b[38;5;124;43m\"\u001b[39;49m\u001b[38;5;124;43meval_sets\u001b[39;49m\u001b[38;5;124;43m\"\u001b[39;49m\u001b[43m]\u001b[49m\u001b[43m,\u001b[49m\n\u001b[1;32m   2413\u001b[0m \u001b[43m        \u001b[49m\u001b[43mparams\u001b[49m\u001b[43m,\u001b[49m\n\u001b[1;32m   2414\u001b[0m \u001b[43m        \u001b[49m\u001b[43mallow_clear_pool\u001b[49m\u001b[43m,\u001b[49m\n\u001b[1;32m   2415\u001b[0m \u001b[43m        \u001b[49m\u001b[43mtrain_params\u001b[49m\u001b[43m[\u001b[49m\u001b[38;5;124;43m\"\u001b[39;49m\u001b[38;5;124;43minit_model\u001b[39;49m\u001b[38;5;124;43m\"\u001b[39;49m\u001b[43m]\u001b[49m\n\u001b[1;32m   2416\u001b[0m \u001b[43m    \u001b[49m\u001b[43m)\u001b[49m\n\u001b[1;32m   2418\u001b[0m \u001b[38;5;66;03m# Have property feature_importance possibly set\u001b[39;00m\n\u001b[1;32m   2419\u001b[0m loss \u001b[38;5;241m=\u001b[39m \u001b[38;5;28mself\u001b[39m\u001b[38;5;241m.\u001b[39m_object\u001b[38;5;241m.\u001b[39m_get_loss_function_name()\n",
      "File \u001b[0;32m/Library/Python/3.9/site-packages/catboost/core.py:1790\u001b[0m, in \u001b[0;36m_CatBoostBase._train\u001b[0;34m(self, train_pool, test_pool, params, allow_clear_pool, init_model)\u001b[0m\n\u001b[1;32m   1789\u001b[0m \u001b[38;5;28;01mdef\u001b[39;00m \u001b[38;5;21m_train\u001b[39m(\u001b[38;5;28mself\u001b[39m, train_pool, test_pool, params, allow_clear_pool, init_model):\n\u001b[0;32m-> 1790\u001b[0m     \u001b[38;5;28;43mself\u001b[39;49m\u001b[38;5;241;43m.\u001b[39;49m\u001b[43m_object\u001b[49m\u001b[38;5;241;43m.\u001b[39;49m\u001b[43m_train\u001b[49m\u001b[43m(\u001b[49m\u001b[43mtrain_pool\u001b[49m\u001b[43m,\u001b[49m\u001b[43m \u001b[49m\u001b[43mtest_pool\u001b[49m\u001b[43m,\u001b[49m\u001b[43m \u001b[49m\u001b[43mparams\u001b[49m\u001b[43m,\u001b[49m\u001b[43m \u001b[49m\u001b[43mallow_clear_pool\u001b[49m\u001b[43m,\u001b[49m\u001b[43m \u001b[49m\u001b[43minit_model\u001b[49m\u001b[38;5;241;43m.\u001b[39;49m\u001b[43m_object\u001b[49m\u001b[43m \u001b[49m\u001b[38;5;28;43;01mif\u001b[39;49;00m\u001b[43m \u001b[49m\u001b[43minit_model\u001b[49m\u001b[43m \u001b[49m\u001b[38;5;28;43;01melse\u001b[39;49;00m\u001b[43m \u001b[49m\u001b[38;5;28;43;01mNone\u001b[39;49;00m\u001b[43m)\u001b[49m\n\u001b[1;32m   1791\u001b[0m     \u001b[38;5;28mself\u001b[39m\u001b[38;5;241m.\u001b[39m_set_trained_model_attributes()\n",
      "File \u001b[0;32m_catboost.pyx:5017\u001b[0m, in \u001b[0;36m_catboost._CatBoost._train\u001b[0;34m()\u001b[0m\n",
      "File \u001b[0;32m_catboost.pyx:5066\u001b[0m, in \u001b[0;36m_catboost._CatBoost._train\u001b[0;34m()\u001b[0m\n",
      "\u001b[0;31mKeyboardInterrupt\u001b[0m: "
     ]
    }
   ],
   "source": [
    "model = CatBoostRegressor(\n",
    "    iterations=1000,            # Максимальное число итераций\n",
    "    learning_rate=0.8,         # Скорость обучения\n",
    "    depth=8,                    # Глубина деревьев\n",
    "    l2_leaf_reg=2,              # Регуляризация\n",
    "    bagging_temperature=1,      # Рандомизация бутстрэпа\n",
    "    random_strength=1,          # Случайность разбиений\n",
    "    one_hot_max_size=10,        # Признаки с уникальными значениями <= 10 будут one-hot кодироваться\n",
    "    loss_function='RMSE',       # Потеря (можно попробовать 'Quantile:alpha=0.5' для устойчивости к выбросам)\n",
    "    od_type='Iter',             # Тип ранней остановки\n",
    "    od_wait=50,                 # Количество итераций для early stopping\n",
    "    use_best_model=True,        # Использовать лучшую модель по валидационной выборке\n",
    "    random_seed=42,             # Фиксированный seed для воспроизводимости\n",
    "    verbose=200,\n",
    "    # task_type='GPU',\n",
    ")\n",
    "model.fit(train_pool, eval_set=test_pool)\n",
    "print(model.is_fitted())\n",
    "print(model.get_params())\n"
   ]
  },
  {
   "cell_type": "code",
   "execution_count": null,
   "id": "f4177777af492d23",
   "metadata": {},
   "outputs": [],
   "source": [
    "y_pred_log = model.predict(test_pool)\n",
    "y_true_log = test_pool.get_label()\n",
    "\n",
    "y_pred = np.expm1(y_pred_log)\n",
    "y_true = np.expm1(y_true_log)\n",
    "\n",
    "rmse = np.sqrt(mean_squared_error(y_true, y_pred))\n",
    "mae = mean_absolute_error(y_true, y_pred)\n",
    "\n",
    "print(f\"\\nRMSE in original scale: {rmse:.2f}\")\n",
    "print(f\"MAE in original scale: {mae:.2f}\")"
   ]
  },
  {
   "cell_type": "code",
   "execution_count": null,
   "id": "b3abaa35957081d9",
   "metadata": {},
   "outputs": [],
   "source": [
    "feature_importances = model.get_feature_importance(prettified=True)\n",
    "print(\"Важность факторов:\")\n",
    "print(feature_importances)"
   ]
  },
  {
   "cell_type": "code",
   "execution_count": null,
   "id": "1a26d4a92ff3de55",
   "metadata": {},
   "outputs": [],
   "source": [
    "# Пример: ошибки для дорогих аукционов\n",
    "high_price_mask = y_true > 150\n",
    "mae_high = mean_absolute_error(y_true[high_price_mask], y_pred[high_price_mask])\n",
    "print(f\"MAE для аукционов >150$: {mae_high:.2f}\")\n",
    "\n"
   ]
  },
  {
   "cell_type": "code",
   "execution_count": null,
   "id": "d972451f72a35ef",
   "metadata": {},
   "outputs": [],
   "source": [
    "top_domains = data['Domain'].value_counts().nlargest(10).index.tolist()\n",
    "# Ошибки по доменам\n",
    "for domain in top_domains:\n",
    "    mask = X_test['Domain'] == domain\n",
    "    rmse_domain = np.sqrt(mean_squared_error(y_true[mask], y_pred[mask]))\n",
    "    print(f\"RMSE для {domain}: {rmse_domain:.2f}\")"
   ]
  },
  {
   "cell_type": "code",
   "execution_count": null,
   "id": "876436b635be947d",
   "metadata": {},
   "outputs": [],
   "source": [
    "data[\"s\"] = data['Ad slot width'] * data['Ad slot height']\n",
    "data['weekend_flag'] = data['Weekday'].isin([5, 6]).astype(int)\n",
    "data['aspect_ratio'] = data['Ad slot width'] / (data['Ad slot height'] + 1e-6)\n",
    "data['domain_hour_interaction'] = data['Domain'].astype(str) + '_' + data['Hour'].astype(str)\n",
    "data['floor_bid_ratio'] = data['Bidding price'] / (data['Ad slot floor price'] + 1e-6)"
   ]
  },
  {
   "cell_type": "code",
   "execution_count": null,
   "id": "224e5bdcd6a29c91",
   "metadata": {},
   "outputs": [],
   "source": [
    "categorical_features = [\n",
    "    'City', 'Region', 'Ad exchange', 'Ad slot visibility', 'Ad slot format', \"Hour\", \"Weekday\", \"Domain\", \"os\", \"device\", \"device_type\", \"browser\"]\n",
    "\n",
    "categorical_features+=[ 'weekend_flag', 'floor_bid_ratio', 'domain_hour_interaction']\n",
    "for col in categorical_features:\n",
    "    # Заменяем NaN на строку 'missing'\n",
    "    data[col] = data[col].fillna('missing')\n",
    "    # Преобразуем все значения в строки\n",
    "    data[col] = data[col].astype(str)"
   ]
  },
  {
   "cell_type": "code",
   "execution_count": null,
   "id": "788378e118e860ea",
   "metadata": {},
   "outputs": [],
   "source": [
    "X = data.drop(columns=['Paying price', 'Paying price log'], errors='ignore')\n",
    "y = data['Paying price']\n",
    "X_train, X_test, y_train, y_test = train_test_split(X, y, test_size=0.2, random_state=42 )\n",
    "train_pool = Pool(X_train, y_train, cat_features= categorical_features)\n",
    "test_pool = Pool(X_test, y_test, cat_features =categorical_features)"
   ]
  },
  {
   "cell_type": "code",
   "execution_count": null,
   "id": "bafa5127cae59845",
   "metadata": {},
   "outputs": [],
   "source": [
    "model = CatBoostRegressor(\n",
    "    iterations=1000,            # Максимальное число итераций\n",
    "    learning_rate=0.9,         # Скорость обучения\n",
    "    depth=6,                    # Глубина деревьев\n",
    "    l2_leaf_reg=5,              # Регуляризация\n",
    "    bagging_temperature=1,      # Рандомизация бутстрэпа\n",
    "    random_strength=1,          # Случайность разбиений\n",
    "    one_hot_max_size=10,        # Признаки с уникальными значениями <= 10 будут one-hot кодироваться\n",
    "    loss_function='RMSE',       # Потеря (можно попробовать 'Quantile:alpha=0.5' для устойчивости к выбросам)\n",
    "    od_type='Iter',             # Тип ранней остановки\n",
    "    od_wait=50,                 # Количество итераций для early stopping\n",
    "    use_best_model=True,        # Использовать лучшую модель по валидационной выборке\n",
    "    random_seed=42,             # Фиксированный seed для воспроизводимости\n",
    "    verbose=200,                # Вывод прогресса обучения\n",
    ")\n",
    "model.fit(train_pool, eval_set=test_pool)\n",
    "print(model.is_fitted())\n",
    "print(model.get_params())"
   ]
  }
 ],
 "metadata": {
  "kernelspec": {
   "display_name": "Python 3 (ipykernel)",
   "language": "python",
   "name": "python3"
  },
  "language_info": {
   "codemirror_mode": {
    "name": "ipython",
    "version": 3
   },
   "file_extension": ".py",
   "mimetype": "text/x-python",
   "name": "python",
   "nbconvert_exporter": "python",
   "pygments_lexer": "ipython3",
   "version": "3.12.7"
  }
 },
 "nbformat": 4,
 "nbformat_minor": 5
}
