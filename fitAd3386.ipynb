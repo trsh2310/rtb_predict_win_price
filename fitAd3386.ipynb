{
 "cells": [
  {
   "cell_type": "code",
   "execution_count": 14,
   "id": "17a733f8-e8ac-46c2-9076-2c0050a151ba",
   "metadata": {
    "ExecuteTime": {
     "end_time": "2025-03-19T14:35:34.519458Z",
     "start_time": "2025-03-19T14:35:34.513240Z"
    }
   },
   "outputs": [],
   "source": [
    "import pandas as pd\n",
    "import numpy as np\n",
    "from catboost import CatBoostRegressor, Pool\n",
    "from matplotlib import pyplot as plt\n",
    "from sklearn.metrics import mean_squared_error, mean_absolute_error\n",
    "from sklearn.model_selection import train_test_split\n",
    "from user_agents import parse"
   ]
  },
  {
   "cell_type": "code",
   "execution_count": 15,
   "id": "5aedc22a-8295-4e80-8054-9de524daefcb",
   "metadata": {
    "ExecuteTime": {
     "end_time": "2025-03-19T14:36:18.380481Z",
     "start_time": "2025-03-19T14:35:35.712319Z"
    }
   },
   "outputs": [],
   "source": [
    "data = pd.read_csv('data/final_data.csv', sep=\",\", header = 0)"
   ]
  },
  {
   "cell_type": "code",
   "execution_count": 16,
   "id": "9994b901-a254-4ade-9043-12ce35058117",
   "metadata": {
    "ExecuteTime": {
     "end_time": "2025-03-19T14:36:18.469407Z",
     "start_time": "2025-03-19T14:36:18.457538Z"
    }
   },
   "outputs": [],
   "source": [
    "data_columns = [\n",
    "    \"Bid ID\", \"Timestamp\", \"Log type\", \"iPinYou ID\", \"User-Agent\", \"IP\",\n",
    "    \"Region\", \"City\", \"Ad exchange\", \"Domain\", \"URL\", \"Anonymous URL ID\",\n",
    "    \"Ad slot ID\", \"Ad slot width\", \"Ad slot height\", \"Ad slot visibility\",\n",
    "    \"Ad slot format\", \"Ad slot floor price\", \"Creative ID\", \"Bidding price\",\n",
    "    \"Paying price\", \"Key page URL\", \"Advertiser ID\", \"User Tags\", 'All paying price',\n",
    "]\n",
    "columns_to_drop = [\n",
    "    \"Bid ID\", \"iPinYou ID\", \"User-Agent\", \"IP\", \"URL\", \"Log type\", \"Timestamp\",\n",
    "    \"Anonymous URL ID\", \"Creative ID\", \"Key page URL\", \"Ad slot ID\", \"Advertiser ID\", 'All paying price', \"User Tags\",\n",
    "]\n",
    "categorical_features = [\n",
    "    'City', 'Region', 'Ad exchange', 'Ad slot visibility', 'Ad slot format', \"Hour\", \"Weekday\", \"Domain\", \"os\", \"device\", \"device_type\", \"browser\"]\n"
   ]
  },
  {
   "cell_type": "code",
   "execution_count": 17,
   "id": "07e45dc1-f648-49e3-aeb8-04887b8a5fd3",
   "metadata": {
    "ExecuteTime": {
     "end_time": "2025-03-19T14:39:13.755855Z",
     "start_time": "2025-03-19T14:39:09.507438Z"
    }
   },
   "outputs": [],
   "source": [
    "#data = data.drop_duplicates()\n",
    "data = data[data['Advertiser ID'] == 3386]\n",
    "data = data[data[\"Paying price\"] > 0]"
   ]
  },
  {
   "cell_type": "code",
   "execution_count": 18,
   "id": "250e7d70-987b-43be-9fbd-d558f51571ad",
   "metadata": {
    "ExecuteTime": {
     "end_time": "2025-03-19T14:39:24.185097Z",
     "start_time": "2025-03-19T14:39:24.180822Z"
    }
   },
   "outputs": [],
   "source": [
    "def parse_timestamp(ts):\n",
    "    ts_str = str(ts)\n",
    "    year = int(ts_str[:4])\n",
    "    month = int(ts_str[4:6])\n",
    "    day = int(ts_str[6:8])\n",
    "    hour = int(ts_str[8:10])\n",
    "    minute = int(ts_str[10:12])\n",
    "    return pd.Timestamp(year=year, month=month, day=day, hour=hour, minute=minute)\n"
   ]
  },
  {
   "cell_type": "code",
   "execution_count": 19,
   "id": "ed424f86-3dab-4423-a24b-09d35bea9c9d",
   "metadata": {
    "ExecuteTime": {
     "end_time": "2025-03-19T14:39:34.819101Z",
     "start_time": "2025-03-19T14:39:25.760673Z"
    }
   },
   "outputs": [],
   "source": [
    "data['Timestamp'] = data['Timestamp'].apply(parse_timestamp)\n",
    "data['Hour'] = data['Timestamp'].dt.hour\n",
    "data['Weekday'] = data['Timestamp'].dt.weekday"
   ]
  },
  {
   "cell_type": "code",
   "execution_count": 20,
   "id": "425f19bafe79d87d",
   "metadata": {
    "ExecuteTime": {
     "end_time": "2025-03-19T14:40:23.838570Z",
     "start_time": "2025-03-19T14:39:49.644212Z"
    }
   },
   "outputs": [],
   "source": [
    "tag_names = {\n",
    "    '10006': 'Long-term interest/news',\n",
    "    '10024': 'Long-term interest/education',\n",
    "    '10031': 'Long-term interest/automobile',\n",
    "    '10048': 'Long-term interest/real estate',\n",
    "    '10052': 'Long-term interest/IT',\n",
    "    '10057': 'Long-term interest/electronic game',\n",
    "    '10059': 'Long-term interest/fashion',\n",
    "    '10063': 'Long-term interest/entertainment',\n",
    "    '10067': 'Long-term interest/luxury',\n",
    "    '10074': 'Long-term interest/home and lifestyle',\n",
    "    '10075': 'Long-term interest/health',\n",
    "    '10076': 'Long-term interest/food',\n",
    "    '10077': 'Long-term interest/divine',\n",
    "    '10079': 'Long-term interest/motherhood&parenting',\n",
    "    '10083': 'Long-term interest/sports',\n",
    "    '10093': 'Long-term interest/travel&outdoors',\n",
    "    '10102': 'Long-term interest/social',\n",
    "    '10684': 'In-market/3c product',\n",
    "    '11092': 'In-market/appliances',\n",
    "    '11278': 'In-market/clothing, shoes&bags',\n",
    "    '11379': 'In-market/Beauty & Personal Care',\n",
    "    '11423': 'In-market/household & home improvement',\n",
    "    '11512': 'In-market/infant & mom products',\n",
    "    '11576': 'In-market/sports item',\n",
    "    '11632': 'In-market/outdoor',\n",
    "    '11680': 'In-market/health care products',\n",
    "    '11724': 'In-market/luxury',\n",
    "    '11944': 'In-market/real estate',\n",
    "    '13042': 'In-market/automobile',\n",
    "    '13403': 'In-market/finance',\n",
    "    '13496': 'In-market/travel',\n",
    "    '13678': 'In-market/education',\n",
    "    '13776': 'In-market/service',\n",
    "    '13800': 'Long-term interest/art & photography & design',\n",
    "    '13866': 'Long-term interest/online literature',\n",
    "    '13874': 'In-market/electronic game',\n",
    "    '14273': 'Long-term interest/3c',\n",
    "    '16593': 'In-market/book',\n",
    "    '16617': 'In-market/medicine',\n",
    "    '16661': 'In-market/food & drink',\n",
    "    '16706': 'Long-term interest/culture',\n",
    "    '10110': 'Demographic/gender/male',\n",
    "    '10111': 'Demographic/gender/female'\n",
    "}\n",
    "data['User Tags'] = data['User Tags'].fillna('').astype(str)\n",
    "\n",
    "for tag, name in tag_names.items():\n",
    "    data[name] = data['User Tags'].apply(lambda x: 1 if tag in x.split(',') else 0)"
   ]
  },
  {
   "cell_type": "code",
   "execution_count": 21,
   "id": "3f14f4df56a5896c",
   "metadata": {
    "ExecuteTime": {
     "end_time": "2025-03-19T14:40:30.085991Z",
     "start_time": "2025-03-19T14:40:26.164820Z"
    }
   },
   "outputs": [
    {
     "name": "stdout",
     "output_type": "stream",
     "text": [
      "Bid ID                        2835896\n",
      "Timestamp                        4312\n",
      "Log type                            1\n",
      "iPinYou ID                    2641288\n",
      "IP                             489689\n",
      "                               ...   \n",
      "In-market/medicine                  2\n",
      "In-market/food & drink              2\n",
      "Long-term interest/culture          2\n",
      "Demographic/gender/male             2\n",
      "Demographic/gender/female           2\n",
      "Length: 73, dtype: int64\n"
     ]
    }
   ],
   "source": [
    "print(data.nunique())"
   ]
  },
  {
   "cell_type": "code",
   "execution_count": 22,
   "id": "4a8b7eca-3a52-42c9-96eb-e8e364da0b61",
   "metadata": {
    "ExecuteTime": {
     "end_time": "2025-03-19T14:40:38.198950Z",
     "start_time": "2025-03-19T14:40:37.043154Z"
    }
   },
   "outputs": [],
   "source": [
    "data = data.drop(columns=columns_to_drop, errors='ignore')"
   ]
  },
  {
   "cell_type": "code",
   "execution_count": 29,
   "id": "c3d154b60431240f",
   "metadata": {
    "ExecuteTime": {
     "end_time": "2025-03-19T14:06:15.283822Z",
     "start_time": "2025-03-19T14:06:14.618062Z"
    }
   },
   "outputs": [
    {
     "name": "stdout",
     "output_type": "stream",
     "text": [
      "Region                                              35\n",
      "City                                               370\n",
      "Ad exchange                                          3\n",
      "Domain                                           13462\n",
      "Ad slot width                                        8\n",
      "Ad slot height                                       5\n",
      "Ad slot visibility                                   4\n",
      "Ad slot format                                       2\n",
      "Ad slot floor price                                184\n",
      "Bidding price                                        1\n",
      "Paying price                                       300\n",
      "device                                            2774\n",
      "os                                                  29\n",
      "browser                                             77\n",
      "device_type                                          5\n",
      "Hour                                                24\n",
      "Weekday                                              7\n",
      "Long-term interest/news                              2\n",
      "Long-term interest/education                         2\n",
      "Long-term interest/automobile                        2\n",
      "Long-term interest/real estate                       2\n",
      "Long-term interest/IT                                2\n",
      "Long-term interest/electronic game                   2\n",
      "Long-term interest/fashion                           2\n",
      "Long-term interest/entertainment                     2\n",
      "Long-term interest/luxury                            2\n",
      "Long-term interest/home and lifestyle                2\n",
      "Long-term interest/health                            2\n",
      "Long-term interest/food                              2\n",
      "Long-term interest/divine                            2\n",
      "Long-term interest/motherhood&parenting              2\n",
      "Long-term interest/sports                            2\n",
      "Long-term interest/travel&outdoors                   2\n",
      "Long-term interest/social                            2\n",
      "In-market/3c product                                 2\n",
      "In-market/appliances                                 2\n",
      "In-market/clothing, shoes&bags                       2\n",
      "In-market/Beauty & Personal Care                     2\n",
      "In-market/household & home improvement               2\n",
      "In-market/infant & mom products                      2\n",
      "In-market/sports item                                2\n",
      "In-market/outdoor                                    2\n",
      "In-market/health care products                       2\n",
      "In-market/luxury                                     2\n",
      "In-market/real estate                                2\n",
      "In-market/automobile                                 2\n",
      "In-market/finance                                    2\n",
      "In-market/travel                                     2\n",
      "In-market/education                                  2\n",
      "In-market/service                                    2\n",
      "Long-term interest/art & photography & design        2\n",
      "Long-term interest/online literature                 2\n",
      "In-market/electronic game                            2\n",
      "Long-term interest/3c                                2\n",
      "In-market/book                                       2\n",
      "In-market/medicine                                   2\n",
      "In-market/food & drink                               2\n",
      "Long-term interest/culture                           2\n",
      "Demographic/gender/male                              2\n",
      "Demographic/gender/female                            2\n",
      "dtype: int64\n"
     ]
    }
   ],
   "source": [
    "print(data.nunique())"
   ]
  },
  {
   "cell_type": "code",
   "execution_count": 23,
   "id": "17cba8b6-d5f6-469a-bdea-21cd5032785b",
   "metadata": {
    "ExecuteTime": {
     "end_time": "2025-03-19T14:41:00.104369Z",
     "start_time": "2025-03-19T14:40:51.391409Z"
    }
   },
   "outputs": [
    {
     "name": "stdout",
     "output_type": "stream",
     "text": [
      "Train size: 2278238\n",
      "Test size: 569560\n"
     ]
    }
   ],
   "source": [
    "for col in categorical_features:\n",
    "    data[col] = data[col].fillna(\"missing\").astype(str)\n",
    "X = data.drop(columns=['Paying price'], errors='ignore')\n",
    "y = data['Paying price']\n",
    "X_train, X_test, y_train, y_test = train_test_split(X, y, test_size=0.2, random_state=42 )\n",
    "print(\"Train size:\", len(X_train))\n",
    "print(\"Test size:\", len(X_test))"
   ]
  },
  {
   "cell_type": "code",
   "execution_count": 31,
   "id": "a9a45e23-b57c-4bfa-80eb-7ea0a1f58254",
   "metadata": {
    "ExecuteTime": {
     "end_time": "2025-03-19T14:07:47.801653Z",
     "start_time": "2025-03-19T14:07:45.160401Z"
    }
   },
   "outputs": [
    {
     "name": "stdout",
     "output_type": "stream",
     "text": [
      "95573\n"
     ]
    }
   ],
   "source": [
    "print(data.duplicated().sum())"
   ]
  },
  {
   "cell_type": "code",
   "execution_count": 24,
   "id": "29ac05d6-1610-4c84-88fc-b7032893a202",
   "metadata": {
    "ExecuteTime": {
     "end_time": "2025-03-19T14:41:07.401363Z",
     "start_time": "2025-03-19T14:41:06.758146Z"
    }
   },
   "outputs": [
    {
     "name": "stdout",
     "output_type": "stream",
     "text": [
      "Region                                           0\n",
      "City                                             0\n",
      "Ad exchange                                      0\n",
      "Domain                                           0\n",
      "Ad slot width                                    0\n",
      "Ad slot height                                   0\n",
      "Ad slot visibility                               0\n",
      "Ad slot format                                   0\n",
      "Ad slot floor price                              0\n",
      "Bidding price                                    0\n",
      "Paying price                                     0\n",
      "device                                           0\n",
      "os                                               0\n",
      "browser                                          0\n",
      "device_type                                      0\n",
      "Hour                                             0\n",
      "Weekday                                          0\n",
      "Long-term interest/news                          0\n",
      "Long-term interest/education                     0\n",
      "Long-term interest/automobile                    0\n",
      "Long-term interest/real estate                   0\n",
      "Long-term interest/IT                            0\n",
      "Long-term interest/electronic game               0\n",
      "Long-term interest/fashion                       0\n",
      "Long-term interest/entertainment                 0\n",
      "Long-term interest/luxury                        0\n",
      "Long-term interest/home and lifestyle            0\n",
      "Long-term interest/health                        0\n",
      "Long-term interest/food                          0\n",
      "Long-term interest/divine                        0\n",
      "Long-term interest/motherhood&parenting          0\n",
      "Long-term interest/sports                        0\n",
      "Long-term interest/travel&outdoors               0\n",
      "Long-term interest/social                        0\n",
      "In-market/3c product                             0\n",
      "In-market/appliances                             0\n",
      "In-market/clothing, shoes&bags                   0\n",
      "In-market/Beauty & Personal Care                 0\n",
      "In-market/household & home improvement           0\n",
      "In-market/infant & mom products                  0\n",
      "In-market/sports item                            0\n",
      "In-market/outdoor                                0\n",
      "In-market/health care products                   0\n",
      "In-market/luxury                                 0\n",
      "In-market/real estate                            0\n",
      "In-market/automobile                             0\n",
      "In-market/finance                                0\n",
      "In-market/travel                                 0\n",
      "In-market/education                              0\n",
      "In-market/service                                0\n",
      "Long-term interest/art & photography & design    0\n",
      "Long-term interest/online literature             0\n",
      "In-market/electronic game                        0\n",
      "Long-term interest/3c                            0\n",
      "In-market/book                                   0\n",
      "In-market/medicine                               0\n",
      "In-market/food & drink                           0\n",
      "Long-term interest/culture                       0\n",
      "Demographic/gender/male                          0\n",
      "Demographic/gender/female                        0\n",
      "dtype: int64\n"
     ]
    }
   ],
   "source": [
    "print(data.isnull().sum())"
   ]
  },
  {
   "cell_type": "code",
   "execution_count": 25,
   "id": "faee1450-d64d-47b1-b5fc-9d3091db2698",
   "metadata": {
    "ExecuteTime": {
     "end_time": "2025-03-19T14:41:15.106235Z",
     "start_time": "2025-03-19T14:41:15.102031Z"
    }
   },
   "outputs": [],
   "source": [
    "missing_cols = set(categorical_features) - set(X_train.columns)\n",
    "if missing_cols:\n",
    "    raise ValueError(f\"Следующие категориальные признаки отсутствуют в данных: {missing_cols}\")"
   ]
  },
  {
   "cell_type": "code",
   "execution_count": 26,
   "id": "fad278df-1644-4241-8f62-3ce772162479",
   "metadata": {
    "ExecuteTime": {
     "end_time": "2025-03-19T14:41:19.461202Z",
     "start_time": "2025-03-19T14:41:17.004426Z"
    }
   },
   "outputs": [],
   "source": [
    "train_pool = Pool(X_train, y_train, cat_features=[X_train.columns.get_loc(col) for col in categorical_features])\n",
    "test_pool = Pool(X_test, y_test, cat_features = [X_train.columns.get_loc(col) for col in categorical_features])"
   ]
  },
  {
   "cell_type": "code",
   "execution_count": 27,
   "id": "2528af50-3666-4998-a6e3-f7a0f8386a5c",
   "metadata": {
    "ExecuteTime": {
     "end_time": "2025-03-19T14:41:27.717796Z",
     "start_time": "2025-03-19T14:41:27.655917Z"
    }
   },
   "outputs": [
    {
     "name": "stdout",
     "output_type": "stream",
     "text": [
      "count    2.847798e+06\n",
      "mean     7.692501e+01\n",
      "std      6.124739e+01\n",
      "min      1.000000e+00\n",
      "25%      3.200000e+01\n",
      "50%      6.700000e+01\n",
      "75%      9.000000e+01\n",
      "max      3.000000e+02\n",
      "Name: Paying price, dtype: float64\n"
     ]
    }
   ],
   "source": [
    "print(data['Paying price'].describe())"
   ]
  },
  {
   "cell_type": "code",
   "execution_count": null,
   "id": "1908a9d2-b168-4de1-bfc7-169976953ea7",
   "metadata": {
    "ExecuteTime": {
     "end_time": "2025-03-19T14:56:48.997871Z",
     "start_time": "2025-03-19T14:41:31.429436Z"
    }
   },
   "outputs": [
    {
     "name": "stdout",
     "output_type": "stream",
     "text": [
      "0:\tlearn: 51.4189012\ttest: 51.3675637\tbest: 51.3675637 (0)\ttotal: 1.83s\tremaining: 30m 25s\n",
      "200:\tlearn: 41.2740765\ttest: 41.3702541\tbest: 41.3695875 (197)\ttotal: 8m 51s\tremaining: 35m 11s\n",
      "400:\tlearn: 40.6534751\ttest: 41.2383998\tbest: 41.2381669 (398)\ttotal: 13m 51s\tremaining: 20m 41s\n",
      "Stopped by overfitting detector  (50 iterations wait)\n",
      "\n",
      "bestTest = 41.23249798\n",
      "bestIteration = 413\n",
      "\n",
      "Shrink model to first 414 iterations.\n",
      "True\n",
      "{'iterations': 1000, 'learning_rate': 0.9, 'depth': 8, 'l2_leaf_reg': 2, 'loss_function': 'RMSE', 'od_wait': 50, 'od_type': 'Iter', 'random_seed': 42, 'use_best_model': True, 'verbose': 200, 'one_hot_max_size': 10, 'random_strength': 1, 'bagging_temperature': 1}\n"
     ]
    }
   ],
   "source": [
    "model = CatBoostRegressor(\n",
    "    iterations=1000, \n",
    "    learning_rate=0.9,      \n",
    "    depth=8,         \n",
    "    l2_leaf_reg=2,  \n",
    "    bagging_temperature=1,    \n",
    "    random_strength=1,      \n",
    "    one_hot_max_size=10,     \n",
    "    loss_function='RMSE',     \n",
    "    od_type='Iter',  \n",
    "    od_wait=50,     \n",
    "    use_best_model=True, \n",
    "    random_seed=42,  \n",
    "    verbose=200,    \n",
    ")\n",
    "model.fit(train_pool, eval_set=test_pool)\n",
    "print(model.is_fitted())\n",
    "print(model.get_params())"
   ]
  },
  {
   "cell_type": "code",
   "execution_count": 29,
   "id": "e96c8b67-d97a-49c4-bf5c-51d0a7a78f42",
   "metadata": {
    "ExecuteTime": {
     "end_time": "2025-03-19T15:02:21.181708Z",
     "start_time": "2025-03-19T15:02:16.132727Z"
    }
   },
   "outputs": [
    {
     "name": "stdout",
     "output_type": "stream",
     "text": [
      "Важность факторов:\n",
      "                                       Feature Id  Importances\n",
      "0                                          Domain    18.785257\n",
      "1                             Ad slot floor price    18.209544\n",
      "2                                     Ad exchange    15.922640\n",
      "3                              Ad slot visibility    12.798975\n",
      "4                                   Ad slot width    10.043139\n",
      "5                                         Weekday     6.416483\n",
      "6                                            Hour     5.865288\n",
      "7                                  Ad slot height     3.100707\n",
      "8                                            City     1.286073\n",
      "9                                         browser     1.262956\n",
      "10                                 Ad slot format     1.100893\n",
      "11                                         Region     0.946379\n",
      "12                        Long-term interest/food     0.497242\n",
      "13                                             os     0.445591\n",
      "14                        Long-term interest/news     0.394269\n",
      "15           Long-term interest/online literature     0.350529\n",
      "16               Long-term interest/entertainment     0.343124\n",
      "17                          Long-term interest/3c     0.285397\n",
      "18                                    device_type     0.188664\n",
      "19                      Demographic/gender/female     0.165790\n",
      "20                              In-market/service     0.153438\n",
      "21                  Long-term interest/automobile     0.132404\n",
      "22                                         device     0.128805\n",
      "23                   Long-term interest/education     0.102366\n",
      "24  Long-term interest/art & photography & design     0.101407\n",
      "25                      Long-term interest/health     0.088020\n",
      "26                           In-market/automobile     0.073912\n",
      "27                               In-market/luxury     0.070454\n",
      "28                          Long-term interest/IT     0.061043\n",
      "29                        Demographic/gender/male     0.055412\n",
      "30                            In-market/education     0.055250\n",
      "31                     Long-term interest/fashion     0.047800\n",
      "32                               In-market/travel     0.043798\n",
      "33                 Long-term interest/real estate     0.039003\n",
      "34             Long-term interest/travel&outdoors     0.035331\n",
      "35                      Long-term interest/divine     0.035312\n",
      "36                          In-market/real estate     0.034750\n",
      "37                      Long-term interest/sports     0.029728\n",
      "38               In-market/Beauty & Personal Care     0.026597\n",
      "39             Long-term interest/electronic game     0.026313\n",
      "40                          In-market/sports item     0.026312\n",
      "41                              In-market/finance     0.025195\n",
      "42                           In-market/appliances     0.024943\n",
      "43                         In-market/food & drink     0.023502\n",
      "44          Long-term interest/home and lifestyle     0.019322\n",
      "45                 In-market/health care products     0.019201\n",
      "46                      Long-term interest/social     0.016735\n",
      "47                     Long-term interest/culture     0.012624\n",
      "48         In-market/household & home improvement     0.011853\n",
      "49        Long-term interest/motherhood&parenting     0.011799\n",
      "50                           In-market/3c product     0.011181\n",
      "51                             In-market/medicine     0.011179\n",
      "52                                 In-market/book     0.008208\n",
      "53                      Long-term interest/luxury     0.008174\n",
      "54                 In-market/clothing, shoes&bags     0.008096\n",
      "55                              In-market/outdoor     0.005121\n",
      "56                In-market/infant & mom products     0.004503\n",
      "57                      In-market/electronic game     0.001967\n",
      "58                                  Bidding price     0.000000\n"
     ]
    }
   ],
   "source": [
    "predictions = model.predict(X_test)\n",
    "feature_importances = model.get_feature_importance(prettified = True)\n",
    "print(\"Важность факторов:\")\n",
    "print(feature_importances)"
   ]
  },
  {
   "cell_type": "code",
   "execution_count": null,
   "id": "6d580d31-45c3-4e39-b3fa-b5048e225af5",
   "metadata": {},
   "outputs": [],
   "source": [
    "high_error_mask = (np.abs(y_test - predictions) > 100)\n",
    "high_error_data = X_test[high_error_mask].copy()\n",
    "high_error_data['True'] = y_test[high_error_mask]\n",
    "high_error_data['Predicted'] = predictions[high_error_mask]\n",
    "print(high_error_data[['Ad slot width', 'Ad slot visibility', 'Ad slot format', 'True', 'Predicted']])"
   ]
  },
  {
   "cell_type": "code",
   "execution_count": null,
   "id": "88a72e8c-b139-4fb3-8d41-3c8062eec26e",
   "metadata": {},
   "outputs": [],
   "source": [
    "print(data['Paying price'].describe())"
   ]
  },
  {
   "cell_type": "code",
   "execution_count": null,
   "id": "5234393e-2467-46fd-807b-dc9446cf0618",
   "metadata": {},
   "outputs": [],
   "source": [
    "data['Paying price log'] = np.log1p(data['Paying price'])"
   ]
  },
  {
   "cell_type": "code",
   "execution_count": null,
   "id": "b82645f6431d19d5",
   "metadata": {},
   "outputs": [],
   "source": [
    "X_train, X_test, y_train, y_test = train_test_split(X, data['Paying price log'], test_size=0.2, random_state=42 )\n",
    "train_pool = Pool(X_train, y_train, cat_features=[X_train.columns.get_loc(col) for col in categorical_features])\n",
    "test_pool = Pool(X_test, y_test, cat_features = [X_train.columns.get_loc(col) for col in categorical_features])"
   ]
  },
  {
   "cell_type": "code",
   "execution_count": null,
   "id": "4cb33a38f444698e",
   "metadata": {},
   "outputs": [],
   "source": [
    "\n"
   ]
  },
  {
   "cell_type": "code",
   "execution_count": null,
   "id": "f4177777af492d23",
   "metadata": {},
   "outputs": [],
   "source": [
    "y_pred_log = model.predict(test_pool)\n",
    "y_true_log = test_pool.get_label()\n",
    "\n",
    "y_pred = np.expm1(y_pred_log)\n",
    "y_true = np.expm1(y_true_log)\n",
    "\n",
    "rmse = np.sqrt(mean_squared_error(y_true, y_pred))\n",
    "mae = mean_absolute_error(y_true, y_pred)\n",
    "\n",
    "print(f\"\\nRMSE in original scale: {rmse:.2f}\")\n",
    "print(f\"MAE in original scale: {mae:.2f}\")"
   ]
  },
  {
   "cell_type": "code",
   "execution_count": null,
   "id": "b3abaa35957081d9",
   "metadata": {},
   "outputs": [],
   "source": [
    "feature_importances = model.get_feature_importance(prettified=True)\n",
    "print(\"Важность факторов:\")\n",
    "print(feature_importances)"
   ]
  },
  {
   "cell_type": "code",
   "execution_count": null,
   "id": "1a26d4a92ff3de55",
   "metadata": {},
   "outputs": [],
   "source": [
    "# Пример: ошибки для дорогих аукционов\n",
    "high_price_mask = y_true > 150\n",
    "mae_high = mean_absolute_error(y_true[high_price_mask], y_pred[high_price_mask])\n",
    "print(f\"MAE для аукционов >150$: {mae_high:.2f}\")\n",
    "\n"
   ]
  },
  {
   "cell_type": "code",
   "execution_count": null,
   "id": "d972451f72a35ef",
   "metadata": {},
   "outputs": [],
   "source": [
    "top_domains = data['Domain'].value_counts().nlargest(10).index.tolist()\n",
    "# Ошибки по доменам\n",
    "for domain in top_domains:\n",
    "    mask = X_test['Domain'] == domain\n",
    "    rmse_domain = np.sqrt(mean_squared_error(y_true[mask], y_pred[mask]))\n",
    "    print(f\"RMSE для {domain}: {rmse_domain:.2f}\")"
   ]
  },
  {
   "cell_type": "code",
   "execution_count": null,
   "id": "876436b635be947d",
   "metadata": {},
   "outputs": [],
   "source": [
    "data[\"s\"] = data['Ad slot width'] * data['Ad slot height']\n",
    "data['weekend_flag'] = data['Weekday'].isin([5, 6]).astype(int)\n",
    "data['aspect_ratio'] = data['Ad slot width'] / (data['Ad slot height'] + 1e-6)\n",
    "data['domain_hour_interaction'] = data['Domain'].astype(str) + '_' + data['Hour'].astype(str)\n",
    "data['floor_bid_ratio'] = data['Bidding price'] / (data['Ad slot floor price'] + 1e-6)"
   ]
  },
  {
   "cell_type": "code",
   "execution_count": null,
   "id": "224e5bdcd6a29c91",
   "metadata": {},
   "outputs": [],
   "source": [
    "categorical_features = [\n",
    "    'City', 'Region', 'Ad exchange', 'Ad slot visibility', 'Ad slot format', \"Hour\", \"Weekday\", \"Domain\", \"os\", \"device\", \"device_type\", \"browser\"]\n",
    "\n",
    "categorical_features+=[ 'weekend_flag', 'floor_bid_ratio', 'domain_hour_interaction']\n",
    "for col in categorical_features:\n",
    "    # Заменяем NaN на строку 'missing'\n",
    "    data[col] = data[col].fillna('missing')\n",
    "    # Преобразуем все значения в строки\n",
    "    data[col] = data[col].astype(str)"
   ]
  },
  {
   "cell_type": "code",
   "execution_count": null,
   "id": "788378e118e860ea",
   "metadata": {},
   "outputs": [],
   "source": [
    "X = data.drop(columns=['Paying price', 'Paying price log'], errors='ignore')\n",
    "y = data['Paying price']\n",
    "X_train, X_test, y_train, y_test = train_test_split(X, y, test_size=0.2, random_state=42 )\n",
    "train_pool = Pool(X_train, y_train, cat_features= categorical_features)\n",
    "test_pool = Pool(X_test, y_test, cat_features =categorical_features)"
   ]
  },
  {
   "cell_type": "code",
   "execution_count": null,
   "id": "bafa5127cae59845",
   "metadata": {},
   "outputs": [],
   "source": [
    "\n",
    "model = CatBoostRegressor(\n",
    "    iterations=1000,  \n",
    "    learning_rate=0.1,    \n",
    "    depth=6,    \n",
    "    l2_leaf_reg=5,        \n",
    "    bagging_temperature=1,   \n",
    "    random_strength=1,      \n",
    "    one_hot_max_size=10,      \n",
    "    loss_function='RMSE',    \n",
    "    od_type='Iter',          \n",
    "    od_wait=50,       \n",
    "    use_best_model=True,   \n",
    "    random_seed=42,         \n",
    "    verbose=200,              \n",
    ")\n",
    "model.fit(train_pool, eval_set=test_pool)\n",
    "print(model.is_fitted())\n",
    "print(model.get_params())"
   ]
  }
 ],
 "metadata": {
  "kernelspec": {
   "display_name": "Python 3 (ipykernel)",
   "language": "python",
   "name": "python3"
  },
  "language_info": {
   "codemirror_mode": {
    "name": "ipython",
    "version": 3
   },
   "file_extension": ".py",
   "mimetype": "text/x-python",
   "name": "python",
   "nbconvert_exporter": "python",
   "pygments_lexer": "ipython3",
   "version": "3.12.7"
  }
 },
 "nbformat": 4,
 "nbformat_minor": 5
}
