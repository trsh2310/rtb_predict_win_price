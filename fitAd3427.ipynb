{
 "cells": [
  {
   "cell_type": "code",
   "execution_count": 1,
   "id": "17a733f8-e8ac-46c2-9076-2c0050a151ba",
   "metadata": {
    "ExecuteTime": {
     "end_time": "2025-03-19T15:05:57.604858Z",
     "start_time": "2025-03-19T15:05:56.550386Z"
    }
   },
   "outputs": [],
   "source": [
    "import pandas as pd\n",
    "import numpy as np\n",
    "from catboost import CatBoostRegressor, Pool\n",
    "from matplotlib import pyplot as plt\n",
    "from sklearn.metrics import mean_squared_error, mean_absolute_error\n",
    "from sklearn.model_selection import train_test_split\n",
    "from user_agents import parse"
   ]
  },
  {
   "cell_type": "code",
   "execution_count": 2,
   "id": "5aedc22a-8295-4e80-8054-9de524daefcb",
   "metadata": {
    "ExecuteTime": {
     "end_time": "2025-03-19T15:06:46.962207Z",
     "start_time": "2025-03-19T15:05:57.607992Z"
    }
   },
   "outputs": [],
   "source": [
    "data = pd.read_csv('data/final_data.csv', sep=\",\", header = 0)"
   ]
  },
  {
   "cell_type": "code",
   "execution_count": 3,
   "id": "9994b901-a254-4ade-9043-12ce35058117",
   "metadata": {
    "ExecuteTime": {
     "end_time": "2025-03-19T15:06:57.415028Z",
     "start_time": "2025-03-19T15:06:57.411220Z"
    }
   },
   "outputs": [],
   "source": [
    "data_columns = [\n",
    "    \"Bid ID\", \"Timestamp\", \"Log type\", \"iPinYou ID\", \"User-Agent\", \"IP\",\n",
    "    \"Region\", \"City\", \"Ad exchange\", \"Domain\", \"URL\", \"Anonymous URL ID\",\n",
    "    \"Ad slot ID\", \"Ad slot width\", \"Ad slot height\", \"Ad slot visibility\",\n",
    "    \"Ad slot format\", \"Ad slot floor price\", \"Creative ID\", \"Bidding price\",\n",
    "    \"Paying price\", \"Key page URL\", \"Advertiser ID\", \"User Tags\", 'All paying price',\n",
    "]\n",
    "columns_to_drop = [\n",
    "    \"Bid ID\", \"iPinYou ID\", \"User-Agent\", \"IP\", \"URL\", \"Log type\", \"Timestamp\",\n",
    "    \"Anonymous URL ID\", \"Creative ID\", \"Key page URL\", \"Ad slot ID\", \"Advertiser ID\", 'All paying price', \"User Tags\",\n",
    "]\n",
    "categorical_features = [\n",
    "    'City', 'Region', 'Ad exchange', 'Ad slot visibility', 'Ad slot format', \"Hour\", \"Weekday\", \"Domain\", \"os\", \"device\", \"device_type\", \"browser\"]\n"
   ]
  },
  {
   "cell_type": "code",
   "execution_count": 4,
   "id": "07e45dc1-f648-49e3-aeb8-04887b8a5fd3",
   "metadata": {
    "ExecuteTime": {
     "end_time": "2025-03-19T15:07:03.817771Z",
     "start_time": "2025-03-19T15:06:59.061686Z"
    }
   },
   "outputs": [],
   "source": [
    "#data = data.drop_duplicates()\n",
    "data = data[data['Advertiser ID'] == 3427]\n",
    "data = data[data[\"Paying price\"] > 0]"
   ]
  },
  {
   "cell_type": "code",
   "execution_count": 5,
   "id": "250e7d70-987b-43be-9fbd-d558f51571ad",
   "metadata": {
    "ExecuteTime": {
     "end_time": "2025-03-19T15:07:03.827670Z",
     "start_time": "2025-03-19T15:07:03.825050Z"
    }
   },
   "outputs": [],
   "source": [
    "def parse_timestamp(ts):\n",
    "    ts_str = str(ts)\n",
    "    year = int(ts_str[:4])\n",
    "    month = int(ts_str[4:6])\n",
    "    day = int(ts_str[6:8])\n",
    "    hour = int(ts_str[8:10])\n",
    "    minute = int(ts_str[10:12])\n",
    "    return pd.Timestamp(year=year, month=month, day=day, hour=hour, minute=minute)\n"
   ]
  },
  {
   "cell_type": "code",
   "execution_count": 6,
   "id": "ed424f86-3dab-4423-a24b-09d35bea9c9d",
   "metadata": {
    "ExecuteTime": {
     "end_time": "2025-03-19T15:07:11.634624Z",
     "start_time": "2025-03-19T15:07:03.835218Z"
    }
   },
   "outputs": [],
   "source": [
    "data['Timestamp'] = data['Timestamp'].apply(parse_timestamp)\n",
    "data['Hour'] = data['Timestamp'].dt.hour\n",
    "data['Weekday'] = data['Timestamp'].dt.weekday"
   ]
  },
  {
   "cell_type": "code",
   "execution_count": 8,
   "id": "425f19bafe79d87d",
   "metadata": {
    "ExecuteTime": {
     "end_time": "2025-03-19T15:08:14.480764Z",
     "start_time": "2025-03-19T15:07:43.223720Z"
    }
   },
   "outputs": [],
   "source": [
    "tag_names = {\n",
    "    '10006': 'Long-term interest/news',\n",
    "    '10024': 'Long-term interest/education',\n",
    "    '10031': 'Long-term interest/automobile',\n",
    "    '10048': 'Long-term interest/real estate',\n",
    "    '10052': 'Long-term interest/IT',\n",
    "    '10057': 'Long-term interest/electronic game',\n",
    "    '10059': 'Long-term interest/fashion',\n",
    "    '10063': 'Long-term interest/entertainment',\n",
    "    '10067': 'Long-term interest/luxury',\n",
    "    '10074': 'Long-term interest/home and lifestyle',\n",
    "    '10075': 'Long-term interest/health',\n",
    "    '10076': 'Long-term interest/food',\n",
    "    '10077': 'Long-term interest/divine',\n",
    "    '10079': 'Long-term interest/motherhood&parenting',\n",
    "    '10083': 'Long-term interest/sports',\n",
    "    '10093': 'Long-term interest/travel&outdoors',\n",
    "    '10102': 'Long-term interest/social',\n",
    "    '10684': 'In-market/3c product',\n",
    "    '11092': 'In-market/appliances',\n",
    "    '11278': 'In-market/clothing, shoes&bags',\n",
    "    '11379': 'In-market/Beauty & Personal Care',\n",
    "    '11423': 'In-market/household & home improvement',\n",
    "    '11512': 'In-market/infant & mom products',\n",
    "    '11576': 'In-market/sports item',\n",
    "    '11632': 'In-market/outdoor',\n",
    "    '11680': 'In-market/health care products',\n",
    "    '11724': 'In-market/luxury',\n",
    "    '11944': 'In-market/real estate',\n",
    "    '13042': 'In-market/automobile',\n",
    "    '13403': 'In-market/finance',\n",
    "    '13496': 'In-market/travel',\n",
    "    '13678': 'In-market/education',\n",
    "    '13776': 'In-market/service',\n",
    "    '13800': 'Long-term interest/art & photography & design',\n",
    "    '13866': 'Long-term interest/online literature',\n",
    "    '13874': 'In-market/electronic game',\n",
    "    '14273': 'Long-term interest/3c',\n",
    "    '16593': 'In-market/book',\n",
    "    '16617': 'In-market/medicine',\n",
    "    '16661': 'In-market/food & drink',\n",
    "    '16706': 'Long-term interest/culture',\n",
    "    '10110': 'Demographic/gender/male',\n",
    "    '10111': 'Demographic/gender/female'\n",
    "}\n",
    "data['User Tags'] = data['User Tags'].fillna('').astype(str)\n",
    "\n",
    "for tag, name in tag_names.items():\n",
    "    data[name] = data['User Tags'].apply(lambda x: 1 if tag in x.split(',') else 0)"
   ]
  },
  {
   "cell_type": "code",
   "execution_count": 9,
   "id": "3f14f4df56a5896c",
   "metadata": {
    "ExecuteTime": {
     "end_time": "2025-03-19T15:08:18.118332Z",
     "start_time": "2025-03-19T15:08:14.507950Z"
    }
   },
   "outputs": [
    {
     "name": "stdout",
     "output_type": "stream",
     "text": [
      "Bid ID                        2581610\n",
      "Timestamp                        3848\n",
      "Log type                            1\n",
      "iPinYou ID                    2410490\n",
      "IP                             487661\n",
      "                               ...   \n",
      "In-market/medicine                  2\n",
      "In-market/food & drink              2\n",
      "Long-term interest/culture          2\n",
      "Demographic/gender/male             2\n",
      "Demographic/gender/female           2\n",
      "Length: 73, dtype: int64\n"
     ]
    }
   ],
   "source": [
    "print(data.nunique())"
   ]
  },
  {
   "cell_type": "code",
   "execution_count": 10,
   "id": "4a8b7eca-3a52-42c9-96eb-e8e364da0b61",
   "metadata": {
    "ExecuteTime": {
     "end_time": "2025-03-19T15:08:30.664682Z",
     "start_time": "2025-03-19T15:08:29.490921Z"
    }
   },
   "outputs": [],
   "source": [
    "data = data.drop(columns=columns_to_drop, errors='ignore')"
   ]
  },
  {
   "cell_type": "code",
   "execution_count": 11,
   "id": "c3d154b60431240f",
   "metadata": {
    "ExecuteTime": {
     "end_time": "2025-03-19T15:08:33.721008Z",
     "start_time": "2025-03-19T15:08:33.157062Z"
    }
   },
   "outputs": [
    {
     "name": "stdout",
     "output_type": "stream",
     "text": [
      "Region                                              35\n",
      "City                                               370\n",
      "Ad exchange                                          3\n",
      "Domain                                           14151\n",
      "Ad slot width                                       13\n",
      "Ad slot height                                       7\n",
      "Ad slot visibility                                   4\n",
      "Ad slot format                                       3\n",
      "Ad slot floor price                                162\n",
      "Bidding price                                        3\n",
      "Paying price                                       266\n",
      "device                                            2357\n",
      "os                                                  27\n",
      "browser                                             76\n",
      "device_type                                          5\n",
      "Hour                                                24\n",
      "Weekday                                              7\n",
      "Long-term interest/news                              2\n",
      "Long-term interest/education                         2\n",
      "Long-term interest/automobile                        2\n",
      "Long-term interest/real estate                       2\n",
      "Long-term interest/IT                                2\n",
      "Long-term interest/electronic game                   2\n",
      "Long-term interest/fashion                           2\n",
      "Long-term interest/entertainment                     2\n",
      "Long-term interest/luxury                            2\n",
      "Long-term interest/home and lifestyle                2\n",
      "Long-term interest/health                            2\n",
      "Long-term interest/food                              2\n",
      "Long-term interest/divine                            2\n",
      "Long-term interest/motherhood&parenting              2\n",
      "Long-term interest/sports                            2\n",
      "Long-term interest/travel&outdoors                   2\n",
      "Long-term interest/social                            2\n",
      "In-market/3c product                                 2\n",
      "In-market/appliances                                 2\n",
      "In-market/clothing, shoes&bags                       2\n",
      "In-market/Beauty & Personal Care                     2\n",
      "In-market/household & home improvement               2\n",
      "In-market/infant & mom products                      2\n",
      "In-market/sports item                                2\n",
      "In-market/outdoor                                    2\n",
      "In-market/health care products                       2\n",
      "In-market/luxury                                     2\n",
      "In-market/real estate                                2\n",
      "In-market/automobile                                 2\n",
      "In-market/finance                                    2\n",
      "In-market/travel                                     2\n",
      "In-market/education                                  2\n",
      "In-market/service                                    2\n",
      "Long-term interest/art & photography & design        2\n",
      "Long-term interest/online literature                 2\n",
      "In-market/electronic game                            2\n",
      "Long-term interest/3c                                2\n",
      "In-market/book                                       2\n",
      "In-market/medicine                                   2\n",
      "In-market/food & drink                               2\n",
      "Long-term interest/culture                           2\n",
      "Demographic/gender/male                              2\n",
      "Demographic/gender/female                            2\n",
      "dtype: int64\n"
     ]
    }
   ],
   "source": [
    "print(data.nunique())"
   ]
  },
  {
   "cell_type": "code",
   "execution_count": 12,
   "id": "17cba8b6-d5f6-469a-bdea-21cd5032785b",
   "metadata": {
    "ExecuteTime": {
     "end_time": "2025-03-19T15:08:41.005757Z",
     "start_time": "2025-03-19T15:08:36.362389Z"
    }
   },
   "outputs": [
    {
     "name": "stdout",
     "output_type": "stream",
     "text": [
      "Train size: 2075002\n",
      "Test size: 518751\n"
     ]
    }
   ],
   "source": [
    "for col in categorical_features:\n",
    "    data[col] = data[col].fillna(\"missing\").astype(str)\n",
    "X = data.drop(columns=['Paying price'], errors='ignore')\n",
    "y = data['Paying price']\n",
    "X_train, X_test, y_train, y_test = train_test_split(X, y, test_size=0.2, random_state=42 )\n",
    "print(\"Train size:\", len(X_train))\n",
    "print(\"Test size:\", len(X_test))"
   ]
  },
  {
   "cell_type": "code",
   "execution_count": 13,
   "id": "a9a45e23-b57c-4bfa-80eb-7ea0a1f58254",
   "metadata": {
    "ExecuteTime": {
     "end_time": "2025-03-19T15:08:49.643800Z",
     "start_time": "2025-03-19T15:08:47.572949Z"
    }
   },
   "outputs": [
    {
     "name": "stdout",
     "output_type": "stream",
     "text": [
      "107074\n"
     ]
    }
   ],
   "source": [
    "print(data.duplicated().sum())"
   ]
  },
  {
   "cell_type": "code",
   "execution_count": 24,
   "id": "29ac05d6-1610-4c84-88fc-b7032893a202",
   "metadata": {
    "ExecuteTime": {
     "end_time": "2025-03-19T14:41:07.401363Z",
     "start_time": "2025-03-19T14:41:06.758146Z"
    }
   },
   "outputs": [
    {
     "name": "stdout",
     "output_type": "stream",
     "text": [
      "Region                                           0\n",
      "City                                             0\n",
      "Ad exchange                                      0\n",
      "Domain                                           0\n",
      "Ad slot width                                    0\n",
      "Ad slot height                                   0\n",
      "Ad slot visibility                               0\n",
      "Ad slot format                                   0\n",
      "Ad slot floor price                              0\n",
      "Bidding price                                    0\n",
      "Paying price                                     0\n",
      "device                                           0\n",
      "os                                               0\n",
      "browser                                          0\n",
      "device_type                                      0\n",
      "Hour                                             0\n",
      "Weekday                                          0\n",
      "Long-term interest/news                          0\n",
      "Long-term interest/education                     0\n",
      "Long-term interest/automobile                    0\n",
      "Long-term interest/real estate                   0\n",
      "Long-term interest/IT                            0\n",
      "Long-term interest/electronic game               0\n",
      "Long-term interest/fashion                       0\n",
      "Long-term interest/entertainment                 0\n",
      "Long-term interest/luxury                        0\n",
      "Long-term interest/home and lifestyle            0\n",
      "Long-term interest/health                        0\n",
      "Long-term interest/food                          0\n",
      "Long-term interest/divine                        0\n",
      "Long-term interest/motherhood&parenting          0\n",
      "Long-term interest/sports                        0\n",
      "Long-term interest/travel&outdoors               0\n",
      "Long-term interest/social                        0\n",
      "In-market/3c product                             0\n",
      "In-market/appliances                             0\n",
      "In-market/clothing, shoes&bags                   0\n",
      "In-market/Beauty & Personal Care                 0\n",
      "In-market/household & home improvement           0\n",
      "In-market/infant & mom products                  0\n",
      "In-market/sports item                            0\n",
      "In-market/outdoor                                0\n",
      "In-market/health care products                   0\n",
      "In-market/luxury                                 0\n",
      "In-market/real estate                            0\n",
      "In-market/automobile                             0\n",
      "In-market/finance                                0\n",
      "In-market/travel                                 0\n",
      "In-market/education                              0\n",
      "In-market/service                                0\n",
      "Long-term interest/art & photography & design    0\n",
      "Long-term interest/online literature             0\n",
      "In-market/electronic game                        0\n",
      "Long-term interest/3c                            0\n",
      "In-market/book                                   0\n",
      "In-market/medicine                               0\n",
      "In-market/food & drink                           0\n",
      "Long-term interest/culture                       0\n",
      "Demographic/gender/male                          0\n",
      "Demographic/gender/female                        0\n",
      "dtype: int64\n"
     ]
    }
   ],
   "source": [
    "print(data.isnull().sum())"
   ]
  },
  {
   "cell_type": "code",
   "execution_count": 14,
   "id": "faee1450-d64d-47b1-b5fc-9d3091db2698",
   "metadata": {
    "ExecuteTime": {
     "end_time": "2025-03-19T15:09:04.505871Z",
     "start_time": "2025-03-19T15:09:04.502668Z"
    }
   },
   "outputs": [],
   "source": [
    "missing_cols = set(categorical_features) - set(X_train.columns)\n",
    "if missing_cols:\n",
    "    raise ValueError(f\"Следующие категориальные признаки отсутствуют в данных: {missing_cols}\")"
   ]
  },
  {
   "cell_type": "code",
   "execution_count": 15,
   "id": "fad278df-1644-4241-8f62-3ce772162479",
   "metadata": {
    "ExecuteTime": {
     "end_time": "2025-03-19T15:09:09.452240Z",
     "start_time": "2025-03-19T15:09:06.822020Z"
    }
   },
   "outputs": [],
   "source": [
    "train_pool = Pool(X_train, y_train, cat_features=[X_train.columns.get_loc(col) for col in categorical_features])\n",
    "test_pool = Pool(X_test, y_test, cat_features = [X_train.columns.get_loc(col) for col in categorical_features])"
   ]
  },
  {
   "cell_type": "code",
   "execution_count": 16,
   "id": "2528af50-3666-4998-a6e3-f7a0f8386a5c",
   "metadata": {
    "ExecuteTime": {
     "end_time": "2025-03-19T15:09:22.902437Z",
     "start_time": "2025-03-19T15:09:22.845278Z"
    }
   },
   "outputs": [
    {
     "name": "stdout",
     "output_type": "stream",
     "text": [
      "count    2.593753e+06\n",
      "mean     8.105626e+01\n",
      "std      5.756222e+01\n",
      "min      1.000000e+00\n",
      "25%      4.300000e+01\n",
      "50%      7.600000e+01\n",
      "75%      9.500000e+01\n",
      "max      2.670000e+02\n",
      "Name: Paying price, dtype: float64\n"
     ]
    }
   ],
   "source": [
    "print(data['Paying price'].describe())"
   ]
  },
  {
   "cell_type": "code",
   "execution_count": null,
   "id": "1908a9d2-b168-4de1-bfc7-169976953ea7",
   "metadata": {
    "ExecuteTime": {
     "end_time": "2025-03-19T15:19:13.237681Z",
     "start_time": "2025-03-19T15:09:24.452076Z"
    }
   },
   "outputs": [
    {
     "name": "stdout",
     "output_type": "stream",
     "text": [
      "0:\tlearn: 45.8798583\ttest: 45.6019424\tbest: 45.6019424 (0)\ttotal: 549ms\tremaining: 9m 8s\n",
      "200:\tlearn: 39.4466304\ttest: 39.5172379\tbest: 39.5172379 (200)\ttotal: 2m 52s\tremaining: 11m 25s\n",
      "400:\tlearn: 38.8320155\ttest: 39.3836840\tbest: 39.3817651 (388)\ttotal: 6m 15s\tremaining: 9m 21s\n",
      "Stopped by overfitting detector  (50 iterations wait)\n",
      "\n",
      "bestTest = 39.35414798\n",
      "bestIteration = 532\n",
      "\n",
      "Shrink model to first 533 iterations.\n",
      "True\n",
      "{'iterations': 1000, 'learning_rate': 0.9, 'depth': 8, 'l2_leaf_reg': 2, 'loss_function': 'RMSE', 'od_wait': 50, 'od_type': 'Iter', 'random_seed': 42, 'use_best_model': True, 'verbose': 200, 'one_hot_max_size': 10, 'random_strength': 1, 'bagging_temperature': 1}\n"
     ]
    }
   ],
   "source": [
    "model = CatBoostRegressor(\n",
    "    iterations=1000,      \n",
    "    learning_rate=0.9,      \n",
    "    depth=8,                \n",
    "    l2_leaf_reg=2,         \n",
    "    bagging_temperature=1,     \n",
    "    random_strength=1,      \n",
    "    one_hot_max_size=10,     \n",
    "    loss_function='RMSE',      \n",
    "    od_type='Iter',        \n",
    "    od_wait=50,           \n",
    "    use_best_model=True,     \n",
    "    random_seed=42,         \n",
    "    verbose=200,            \n",
    ")\n",
    "model.fit(train_pool, eval_set=test_pool)\n",
    "print(model.is_fitted())\n",
    "print(model.get_params())"
   ]
  },
  {
   "cell_type": "code",
   "execution_count": null,
   "id": "a37c34c3-7bf8-41f8-8f8a-87130311015d",
   "metadata": {},
   "outputs": [],
   "source": []
  },
  {
   "cell_type": "code",
   "execution_count": 18,
   "id": "e96c8b67-d97a-49c4-bf5c-51d0a7a78f42",
   "metadata": {
    "ExecuteTime": {
     "end_time": "2025-03-19T15:21:43.419598Z",
     "start_time": "2025-03-19T15:21:38.314864Z"
    }
   },
   "outputs": [
    {
     "name": "stdout",
     "output_type": "stream",
     "text": [
      "Важность факторов:\n",
      "                                       Feature Id  Importances\n",
      "0                                          Domain    28.772446\n",
      "1                             Ad slot floor price    15.991327\n",
      "2                                     Ad exchange    15.314186\n",
      "3                                         Weekday     7.492503\n",
      "4                                            Hour     6.286819\n",
      "5                                  Ad slot height     4.848589\n",
      "6                                   Ad slot width     4.634241\n",
      "7                              Ad slot visibility     3.266410\n",
      "8                                         browser     2.605501\n",
      "9                                            City     1.588102\n",
      "10                                  Bidding price     1.373112\n",
      "11                                         Region     1.245814\n",
      "12                                 Ad slot format     1.118638\n",
      "13           Long-term interest/online literature     0.580281\n",
      "14               Long-term interest/entertainment     0.522182\n",
      "15                                             os     0.501585\n",
      "16                              In-market/service     0.376971\n",
      "17                          Long-term interest/3c     0.315386\n",
      "18                                         device     0.287142\n",
      "19                        Long-term interest/news     0.272293\n",
      "20                        Long-term interest/food     0.264170\n",
      "21                   Long-term interest/education     0.229595\n",
      "22                      Demographic/gender/female     0.209334\n",
      "23                                    device_type     0.205880\n",
      "24  Long-term interest/art & photography & design     0.168504\n",
      "25                          In-market/real estate     0.133490\n",
      "26                      Long-term interest/health     0.119605\n",
      "27                           In-market/automobile     0.100961\n",
      "28             Long-term interest/travel&outdoors     0.097410\n",
      "29                        Demographic/gender/male     0.089006\n",
      "30                          Long-term interest/IT     0.085629\n",
      "31             Long-term interest/electronic game     0.083135\n",
      "32                      Long-term interest/social     0.075953\n",
      "33                      Long-term interest/divine     0.062629\n",
      "34                 Long-term interest/real estate     0.058292\n",
      "35                      Long-term interest/sports     0.057975\n",
      "36                           In-market/appliances     0.052836\n",
      "37                  Long-term interest/automobile     0.051663\n",
      "38          Long-term interest/home and lifestyle     0.050784\n",
      "39                     Long-term interest/fashion     0.049326\n",
      "40                          In-market/sports item     0.044429\n",
      "41                              In-market/finance     0.042472\n",
      "42                            In-market/education     0.042238\n",
      "43                           In-market/3c product     0.029354\n",
      "44                             In-market/medicine     0.023819\n",
      "45                      Long-term interest/luxury     0.023254\n",
      "46                               In-market/luxury     0.021106\n",
      "47                         In-market/food & drink     0.019910\n",
      "48                               In-market/travel     0.019707\n",
      "49               In-market/Beauty & Personal Care     0.018233\n",
      "50                 In-market/clothing, shoes&bags     0.015521\n",
      "51        Long-term interest/motherhood&parenting     0.015006\n",
      "52                                 In-market/book     0.012170\n",
      "53                 In-market/health care products     0.011251\n",
      "54         In-market/household & home improvement     0.010957\n",
      "55                      In-market/electronic game     0.005218\n",
      "56                     Long-term interest/culture     0.004253\n",
      "57                              In-market/outdoor     0.001400\n",
      "58                In-market/infant & mom products     0.000000\n"
     ]
    }
   ],
   "source": [
    "predictions = model.predict(X_test)\n",
    "feature_importances = model.get_feature_importance(prettified = True)\n",
    "print(\"Важность факторов:\")\n",
    "print(feature_importances)"
   ]
  },
  {
   "cell_type": "code",
   "execution_count": null,
   "id": "6d580d31-45c3-4e39-b3fa-b5048e225af5",
   "metadata": {},
   "outputs": [],
   "source": [
    "high_error_mask = (np.abs(y_test - predictions) > 100)\n",
    "high_error_data = X_test[high_error_mask].copy()\n",
    "high_error_data['True'] = y_test[high_error_mask]\n",
    "high_error_data['Predicted'] = predictions[high_error_mask]\n",
    "print(high_error_data[['Ad slot width', 'Ad slot visibility', 'Ad slot format', 'True', 'Predicted']])"
   ]
  },
  {
   "cell_type": "code",
   "execution_count": null,
   "id": "88a72e8c-b139-4fb3-8d41-3c8062eec26e",
   "metadata": {},
   "outputs": [],
   "source": [
    "print(data['Paying price'].describe())"
   ]
  },
  {
   "cell_type": "code",
   "execution_count": null,
   "id": "5234393e-2467-46fd-807b-dc9446cf0618",
   "metadata": {},
   "outputs": [],
   "source": [
    "data['Paying price log'] = np.log1p(data['Paying price'])"
   ]
  },
  {
   "cell_type": "code",
   "execution_count": null,
   "id": "b82645f6431d19d5",
   "metadata": {},
   "outputs": [],
   "source": [
    "X_train, X_test, y_train, y_test = train_test_split(X, data['Paying price log'], test_size=0.2, random_state=42 )\n",
    "train_pool = Pool(X_train, y_train, cat_features=[X_train.columns.get_loc(col) for col in categorical_features])\n",
    "test_pool = Pool(X_test, y_test, cat_features = [X_train.columns.get_loc(col) for col in categorical_features])"
   ]
  },
  {
   "cell_type": "code",
   "execution_count": null,
   "id": "f4177777af492d23",
   "metadata": {},
   "outputs": [],
   "source": [
    "y_pred_log = model.predict(test_pool)\n",
    "y_true_log = test_pool.get_label()\n",
    "\n",
    "y_pred = np.expm1(y_pred_log)\n",
    "y_true = np.expm1(y_true_log)\n",
    "\n",
    "rmse = np.sqrt(mean_squared_error(y_true, y_pred))\n",
    "mae = mean_absolute_error(y_true, y_pred)\n",
    "\n",
    "print(f\"\\nRMSE in original scale: {rmse:.2f}\")\n",
    "print(f\"MAE in original scale: {mae:.2f}\")"
   ]
  },
  {
   "cell_type": "code",
   "execution_count": null,
   "id": "b3abaa35957081d9",
   "metadata": {},
   "outputs": [],
   "source": [
    "feature_importances = model.get_feature_importance(prettified=True)\n",
    "print(\"Важность факторов:\")\n",
    "print(feature_importances)"
   ]
  },
  {
   "cell_type": "code",
   "execution_count": null,
   "id": "1a26d4a92ff3de55",
   "metadata": {},
   "outputs": [],
   "source": [
    "\n",
    "high_price_mask = y_true > 150\n",
    "mae_high = mean_absolute_error(y_true[high_price_mask], y_pred[high_price_mask])\n",
    "print(f\"MAE для аукционов >150$: {mae_high:.2f}\")\n"
   ]
  },
  {
   "cell_type": "code",
   "execution_count": null,
   "id": "d972451f72a35ef",
   "metadata": {},
   "outputs": [],
   "source": [
    "top_domains = data['Domain'].value_counts().nlargest(10).index.tolist()\n",
    "\n",
    "for domain in top_domains:\n",
    "    mask = X_test['Domain'] == domain\n",
    "    rmse_domain = np.sqrt(mean_squared_error(y_true[mask], y_pred[mask]))\n",
    "    print(f\"RMSE для {domain}: {rmse_domain:.2f}\")"
   ]
  },
  {
   "cell_type": "code",
   "execution_count": null,
   "id": "876436b635be947d",
   "metadata": {},
   "outputs": [],
   "source": [
    "data[\"s\"] = data['Ad slot width'] * data['Ad slot height']\n",
    "data['weekend_flag'] = data['Weekday'].isin([5, 6]).astype(int)\n",
    "data['aspect_ratio'] = data['Ad slot width'] / (data['Ad slot height'] + 1e-6)\n",
    "data['domain_hour_interaction'] = data['Domain'].astype(str) + '_' + data['Hour'].astype(str)\n",
    "data['floor_bid_ratio'] = data['Bidding price'] / (data['Ad slot floor price'] + 1e-6)"
   ]
  },
  {
   "cell_type": "code",
   "execution_count": null,
   "id": "224e5bdcd6a29c91",
   "metadata": {},
   "outputs": [],
   "source": [
    "categorical_features = [\n",
    "    'City', 'Region', 'Ad exchange', 'Ad slot visibility', 'Ad slot format', \"Hour\", \"Weekday\", \"Domain\", \"os\", \"device\", \"device_type\", \"browser\"]\n",
    "\n",
    "categorical_features+=[ 'weekend_flag', 'floor_bid_ratio', 'domain_hour_interaction']\n",
    "for col in categorical_features:\n",
    "    data[col] = data[col].fillna('missing')\n",
    "    data[col] = data[col].astype(str)"
   ]
  },
  {
   "cell_type": "code",
   "execution_count": null,
   "id": "788378e118e860ea",
   "metadata": {},
   "outputs": [],
   "source": [
    "X = data.drop(columns=['Paying price', 'Paying price log'], errors='ignore')\n",
    "y = data['Paying price']\n",
    "X_train, X_test, y_train, y_test = train_test_split(X, y, test_size=0.2, random_state=42 )\n",
    "train_pool = Pool(X_train, y_train, cat_features= categorical_features)\n",
    "test_pool = Pool(X_test, y_test, cat_features =categorical_features)"
   ]
  },
  {
   "cell_type": "code",
   "execution_count": null,
   "id": "bafa5127cae59845",
   "metadata": {},
   "outputs": [],
   "source": [
    "\n",
    "model = CatBoostRegressor(\n",
    "    iterations=1000,        \n",
    "    learning_rate=0.1,     \n",
    "    depth=6,        \n",
    "    l2_leaf_reg=5,       \n",
    "    bagging_temperature=1,    \n",
    "    random_strength=1,    \n",
    "    one_hot_max_size=10,     \n",
    "    loss_function='RMSE',      \n",
    "    od_type='Iter',            \n",
    "    od_wait=50,            \n",
    "    use_best_model=True,   \n",
    "    random_seed=42, \n",
    "    verbose=200, \n",
    ")\n",
    "model.fit(train_pool, eval_set=test_pool)\n",
    "print(model.is_fitted())\n",
    "print(model.get_params())"
   ]
  }
 ],
 "metadata": {
  "kernelspec": {
   "display_name": "Python 3 (ipykernel)",
   "language": "python",
   "name": "python3"
  },
  "language_info": {
   "codemirror_mode": {
    "name": "ipython",
    "version": 3
   },
   "file_extension": ".py",
   "mimetype": "text/x-python",
   "name": "python",
   "nbconvert_exporter": "python",
   "pygments_lexer": "ipython3",
   "version": "3.12.7"
  }
 },
 "nbformat": 4,
 "nbformat_minor": 5
}
