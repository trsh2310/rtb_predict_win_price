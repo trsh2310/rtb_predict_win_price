{
 "cells": [
  {
   "cell_type": "code",
   "execution_count": 1,
   "id": "17a733f8-e8ac-46c2-9076-2c0050a151ba",
   "metadata": {
    "ExecuteTime": {
     "end_time": "2025-04-01T12:24:23.912375Z",
     "start_time": "2025-04-01T12:24:23.566896Z"
    }
   },
   "outputs": [],
   "source": [
    "import pandas as pd\n",
    "import numpy as np\n",
    "from catboost import CatBoostRegressor, Pool\n",
    "from matplotlib import pyplot as plt\n",
    "from sklearn.metrics import mean_squared_error, mean_absolute_error\n",
    "from sklearn.model_selection import train_test_split\n",
    "from user_agents import parse"
   ]
  },
  {
   "cell_type": "code",
   "execution_count": 2,
   "id": "5aedc22a-8295-4e80-8054-9de524daefcb",
   "metadata": {
    "ExecuteTime": {
     "end_time": "2025-04-01T12:25:17.403174Z",
     "start_time": "2025-04-01T12:24:23.918605Z"
    }
   },
   "outputs": [],
   "source": [
    "data = pd.read_csv('data/final_data.csv', sep=\",\", header = 0)"
   ]
  },
  {
   "cell_type": "code",
   "execution_count": 3,
   "id": "9994b901-a254-4ade-9043-12ce35058117",
   "metadata": {
    "ExecuteTime": {
     "end_time": "2025-04-01T12:25:17.726082Z",
     "start_time": "2025-04-01T12:25:17.723856Z"
    }
   },
   "outputs": [],
   "source": [
    "data_columns = [\n",
    "    \"Bid ID\", \"Timestamp\", \"Log type\", \"iPinYou ID\", \"User-Agent\", \"IP\",\n",
    "    \"Region\", \"City\", \"Ad exchange\", \"Domain\", \"URL\", \"Anonymous URL ID\",\n",
    "    \"Ad slot ID\", \"Ad slot width\", \"Ad slot height\", \"Ad slot visibility\",\n",
    "    \"Ad slot format\", \"Ad slot floor price\", \"Creative ID\", \"Bidding price\",\n",
    "    \"Paying price\", \"Key page URL\", \"Advertiser ID\", \"User Tags\", 'All paying price',\n",
    "]\n",
    "columns_to_drop = [\n",
    "    \"Bid ID\", \"iPinYou ID\", \"User-Agent\", \"IP\", \"URL\", \"Log type\", \"Timestamp\",\n",
    "    \"Anonymous URL ID\", \"Creative ID\", \"Key page URL\", \"Ad slot ID\", \"Advertiser ID\", 'All paying price', \"User Tags\",\n",
    "]\n",
    "categorical_features = [\n",
    "    'City', 'Region', 'Ad exchange', 'Ad slot visibility', 'Ad slot format', \"Hour\", \"Weekday\", \"Domain\", \"os\", \"device\", \"device_type\", \"browser\"]\n"
   ]
  },
  {
   "cell_type": "code",
   "execution_count": 4,
   "id": "07e45dc1-f648-49e3-aeb8-04887b8a5fd3",
   "metadata": {
    "ExecuteTime": {
     "end_time": "2025-04-01T12:25:22.492338Z",
     "start_time": "2025-04-01T12:25:17.754738Z"
    }
   },
   "outputs": [],
   "source": [
    "#data = data.drop_duplicates()\n",
    "data = data[data['Advertiser ID'] == 3476]\n",
    "data = data[data[\"Paying price\"] > 0]"
   ]
  },
  {
   "cell_type": "code",
   "execution_count": 5,
   "id": "250e7d70-987b-43be-9fbd-d558f51571ad",
   "metadata": {
    "ExecuteTime": {
     "end_time": "2025-04-01T12:25:30.306503Z",
     "start_time": "2025-04-01T12:25:30.303351Z"
    }
   },
   "outputs": [],
   "source": [
    "def parse_timestamp(ts):\n",
    "    ts_str = str(ts)\n",
    "    year = int(ts_str[:4])\n",
    "    month = int(ts_str[4:6])\n",
    "    day = int(ts_str[6:8])\n",
    "    hour = int(ts_str[8:10])\n",
    "    minute = int(ts_str[10:12])\n",
    "    return pd.Timestamp(year=year, month=month, day=day, hour=hour, minute=minute)\n"
   ]
  },
  {
   "cell_type": "code",
   "execution_count": 6,
   "id": "ed424f86-3dab-4423-a24b-09d35bea9c9d",
   "metadata": {
    "ExecuteTime": {
     "end_time": "2025-04-01T12:25:38.147553Z",
     "start_time": "2025-04-01T12:25:31.975461Z"
    }
   },
   "outputs": [],
   "source": [
    "data['Timestamp'] = data['Timestamp'].apply(parse_timestamp)\n",
    "data['Hour'] = data['Timestamp'].dt.hour\n",
    "data['Weekday'] = data['Timestamp'].dt.weekday"
   ]
  },
  {
   "cell_type": "code",
   "execution_count": 8,
   "id": "aa572f89673f3880",
   "metadata": {
    "ExecuteTime": {
     "end_time": "2025-03-24T13:17:12.269859Z",
     "start_time": "2025-03-24T13:17:11.808624Z"
    }
   },
   "outputs": [],
   "source": [
    "\"\"\"data[\"s\"] = data['Ad slot width'] * data['Ad slot height']\n",
    "data['weekend_flag'] = data['Weekday'].isin([5, 6]).astype(int)\n",
    "data['aspect_ratio'] = data['Ad slot width'] / (data['Ad slot height'] + 1e-6)\n",
    "data['domain_hour_interaction'] = data['Domain'].astype(str) + '_' + data['Hour'].astype(str)\n",
    "data['floor_bid_ratio'] = data['Bidding price'] / (data['Ad slot floor price'] + 1e-6)\n",
    "\n",
    "categorical_features+=[ 'weekend_flag', 'floor_bid_ratio', 'domain_hour_interaction']\"\"\""
   ]
  },
  {
   "cell_type": "code",
   "execution_count": 7,
   "id": "425f19bafe79d87d",
   "metadata": {
    "ExecuteTime": {
     "end_time": "2025-04-01T12:26:07.927814Z",
     "start_time": "2025-04-01T12:25:38.407097Z"
    }
   },
   "outputs": [],
   "source": [
    "tag_names = {\n",
    "    '10006': 'Long-term interest/news',\n",
    "    '10024': 'Long-term interest/education',\n",
    "    '10031': 'Long-term interest/automobile',\n",
    "    '10048': 'Long-term interest/real estate',\n",
    "    '10052': 'Long-term interest/IT',\n",
    "    '10057': 'Long-term interest/electronic game',\n",
    "    '10059': 'Long-term interest/fashion',\n",
    "    '10063': 'Long-term interest/entertainment',\n",
    "    '10067': 'Long-term interest/luxury',\n",
    "    '10074': 'Long-term interest/home and lifestyle',\n",
    "    '10075': 'Long-term interest/health',\n",
    "    '10076': 'Long-term interest/food',\n",
    "    '10077': 'Long-term interest/divine',\n",
    "    '10079': 'Long-term interest/motherhood&parenting',\n",
    "    '10083': 'Long-term interest/sports',\n",
    "    '10093': 'Long-term interest/travel&outdoors',\n",
    "    '10102': 'Long-term interest/social',\n",
    "    '10684': 'In-market/3c product',\n",
    "    '11092': 'In-market/appliances',\n",
    "    '11278': 'In-market/clothing, shoes&bags',\n",
    "    '11379': 'In-market/Beauty & Personal Care',\n",
    "    '11423': 'In-market/household & home improvement',\n",
    "    '11512': 'In-market/infant & mom products',\n",
    "    '11576': 'In-market/sports item',\n",
    "    '11632': 'In-market/outdoor',\n",
    "    '11680': 'In-market/health care products',\n",
    "    '11724': 'In-market/luxury',\n",
    "    '11944': 'In-market/real estate',\n",
    "    '13042': 'In-market/automobile',\n",
    "    '13403': 'In-market/finance',\n",
    "    '13496': 'In-market/travel',\n",
    "    '13678': 'In-market/education',\n",
    "    '13776': 'In-market/service',\n",
    "    '13800': 'Long-term interest/art & photography & design',\n",
    "    '13866': 'Long-term interest/online literature',\n",
    "    '13874': 'In-market/electronic game',\n",
    "    '14273': 'Long-term interest/3c',\n",
    "    '16593': 'In-market/book',\n",
    "    '16617': 'In-market/medicine',\n",
    "    '16661': 'In-market/food & drink',\n",
    "    '16706': 'Long-term interest/culture',\n",
    "    '10110': 'Demographic/gender/male',\n",
    "    '10111': 'Demographic/gender/female'\n",
    "}\n",
    "data['User Tags'] = data['User Tags'].fillna('').astype(str)\n",
    "\n",
    "for tag, name in tag_names.items():\n",
    "    data[name] = data['User Tags'].apply(lambda x: 1 if tag in x.split(',') else 0)"
   ]
  },
  {
   "cell_type": "code",
   "execution_count": 83,
   "id": "3f14f4df56a5896c",
   "metadata": {
    "ExecuteTime": {
     "end_time": "2025-03-22T13:57:45.785231Z",
     "start_time": "2025-03-22T13:57:43.600521Z"
    }
   },
   "outputs": [
    {
     "name": "stdout",
     "output_type": "stream",
     "text": [
      "Bid ID                        1727541\n",
      "Timestamp                        1058\n",
      "Log type                            1\n",
      "iPinYou ID                    1518882\n",
      "IP                             445851\n",
      "                               ...   \n",
      "In-market/medicine                  2\n",
      "In-market/food & drink              2\n",
      "Long-term interest/culture          2\n",
      "Demographic/gender/male             2\n",
      "Demographic/gender/female           2\n",
      "Length: 73, dtype: int64\n"
     ]
    }
   ],
   "source": [
    "print(data.nunique())"
   ]
  },
  {
   "cell_type": "code",
   "execution_count": 8,
   "id": "4a8b7eca-3a52-42c9-96eb-e8e364da0b61",
   "metadata": {
    "ExecuteTime": {
     "end_time": "2025-04-01T12:26:08.778479Z",
     "start_time": "2025-04-01T12:26:07.935772Z"
    }
   },
   "outputs": [],
   "source": [
    "data = data.drop(columns=columns_to_drop, errors='ignore')"
   ]
  },
  {
   "cell_type": "code",
   "execution_count": 85,
   "id": "c3d154b60431240f",
   "metadata": {
    "ExecuteTime": {
     "end_time": "2025-03-22T13:57:46.764650Z",
     "start_time": "2025-03-22T13:57:46.408539Z"
    }
   },
   "outputs": [
    {
     "name": "stdout",
     "output_type": "stream",
     "text": [
      "Region                                              35\n",
      "City                                               370\n",
      "Ad exchange                                          3\n",
      "Domain                                           11326\n",
      "Ad slot width                                       11\n",
      "Ad slot height                                       6\n",
      "Ad slot visibility                                   4\n",
      "Ad slot format                                       3\n",
      "Ad slot floor price                                139\n",
      "Bidding price                                        3\n",
      "Paying price                                       266\n",
      "device                                            2797\n",
      "os                                                  24\n",
      "browser                                             68\n",
      "device_type                                          5\n",
      "Hour                                                24\n",
      "Weekday                                              7\n",
      "Long-term interest/news                              2\n",
      "Long-term interest/education                         2\n",
      "Long-term interest/automobile                        2\n",
      "Long-term interest/real estate                       2\n",
      "Long-term interest/IT                                2\n",
      "Long-term interest/electronic game                   2\n",
      "Long-term interest/fashion                           2\n",
      "Long-term interest/entertainment                     2\n",
      "Long-term interest/luxury                            2\n",
      "Long-term interest/home and lifestyle                2\n",
      "Long-term interest/health                            2\n",
      "Long-term interest/food                              2\n",
      "Long-term interest/divine                            2\n",
      "Long-term interest/motherhood&parenting              2\n",
      "Long-term interest/sports                            2\n",
      "Long-term interest/travel&outdoors                   2\n",
      "Long-term interest/social                            2\n",
      "In-market/3c product                                 2\n",
      "In-market/appliances                                 2\n",
      "In-market/clothing, shoes&bags                       2\n",
      "In-market/Beauty & Personal Care                     2\n",
      "In-market/household & home improvement               2\n",
      "In-market/infant & mom products                      2\n",
      "In-market/sports item                                2\n",
      "In-market/outdoor                                    2\n",
      "In-market/health care products                       2\n",
      "In-market/luxury                                     2\n",
      "In-market/real estate                                2\n",
      "In-market/automobile                                 2\n",
      "In-market/finance                                    2\n",
      "In-market/travel                                     2\n",
      "In-market/education                                  2\n",
      "In-market/service                                    2\n",
      "Long-term interest/art & photography & design        2\n",
      "Long-term interest/online literature                 2\n",
      "In-market/electronic game                            2\n",
      "Long-term interest/3c                                2\n",
      "In-market/book                                       2\n",
      "In-market/medicine                                   2\n",
      "In-market/food & drink                               2\n",
      "Long-term interest/culture                           2\n",
      "Demographic/gender/male                              2\n",
      "Demographic/gender/female                            2\n",
      "dtype: int64\n"
     ]
    }
   ],
   "source": [
    "print(data.nunique())"
   ]
  },
  {
   "cell_type": "code",
   "execution_count": 9,
   "id": "17cba8b6-d5f6-469a-bdea-21cd5032785b",
   "metadata": {
    "ExecuteTime": {
     "end_time": "2025-04-01T12:26:19.116158Z",
     "start_time": "2025-04-01T12:26:15.849683Z"
    }
   },
   "outputs": [
    {
     "name": "stdout",
     "output_type": "stream",
     "text": [
      "Train size: 1576172\n",
      "Test size: 394044\n"
     ]
    }
   ],
   "source": [
    "for col in categorical_features:\n",
    "    data[col] = data[col].fillna(\"missing\").astype(str)\n",
    "X = data.drop(columns=['Paying price'], errors='ignore')\n",
    "y = data['Paying price']\n",
    "X_train, X_test, y_train, y_test = train_test_split(X, y, test_size=0.2, random_state=42 )\n",
    "print(\"Train size:\", len(X_train))\n",
    "print(\"Test size:\", len(X_test))"
   ]
  },
  {
   "cell_type": "code",
   "execution_count": 87,
   "id": "a9a45e23-b57c-4bfa-80eb-7ea0a1f58254",
   "metadata": {
    "ExecuteTime": {
     "end_time": "2025-03-22T13:57:52.362898Z",
     "start_time": "2025-03-22T13:57:51.170410Z"
    }
   },
   "outputs": [
    {
     "name": "stdout",
     "output_type": "stream",
     "text": [
      "208149\n"
     ]
    }
   ],
   "source": [
    "print(data.duplicated().sum())"
   ]
  },
  {
   "cell_type": "code",
   "execution_count": 88,
   "id": "29ac05d6-1610-4c84-88fc-b7032893a202",
   "metadata": {
    "ExecuteTime": {
     "end_time": "2025-03-22T13:57:52.731021Z",
     "start_time": "2025-03-22T13:57:52.386032Z"
    }
   },
   "outputs": [
    {
     "name": "stdout",
     "output_type": "stream",
     "text": [
      "Region                                           0\n",
      "City                                             0\n",
      "Ad exchange                                      0\n",
      "Domain                                           0\n",
      "Ad slot width                                    0\n",
      "Ad slot height                                   0\n",
      "Ad slot visibility                               0\n",
      "Ad slot format                                   0\n",
      "Ad slot floor price                              0\n",
      "Bidding price                                    0\n",
      "Paying price                                     0\n",
      "device                                           0\n",
      "os                                               0\n",
      "browser                                          0\n",
      "device_type                                      0\n",
      "Hour                                             0\n",
      "Weekday                                          0\n",
      "Long-term interest/news                          0\n",
      "Long-term interest/education                     0\n",
      "Long-term interest/automobile                    0\n",
      "Long-term interest/real estate                   0\n",
      "Long-term interest/IT                            0\n",
      "Long-term interest/electronic game               0\n",
      "Long-term interest/fashion                       0\n",
      "Long-term interest/entertainment                 0\n",
      "Long-term interest/luxury                        0\n",
      "Long-term interest/home and lifestyle            0\n",
      "Long-term interest/health                        0\n",
      "Long-term interest/food                          0\n",
      "Long-term interest/divine                        0\n",
      "Long-term interest/motherhood&parenting          0\n",
      "Long-term interest/sports                        0\n",
      "Long-term interest/travel&outdoors               0\n",
      "Long-term interest/social                        0\n",
      "In-market/3c product                             0\n",
      "In-market/appliances                             0\n",
      "In-market/clothing, shoes&bags                   0\n",
      "In-market/Beauty & Personal Care                 0\n",
      "In-market/household & home improvement           0\n",
      "In-market/infant & mom products                  0\n",
      "In-market/sports item                            0\n",
      "In-market/outdoor                                0\n",
      "In-market/health care products                   0\n",
      "In-market/luxury                                 0\n",
      "In-market/real estate                            0\n",
      "In-market/automobile                             0\n",
      "In-market/finance                                0\n",
      "In-market/travel                                 0\n",
      "In-market/education                              0\n",
      "In-market/service                                0\n",
      "Long-term interest/art & photography & design    0\n",
      "Long-term interest/online literature             0\n",
      "In-market/electronic game                        0\n",
      "Long-term interest/3c                            0\n",
      "In-market/book                                   0\n",
      "In-market/medicine                               0\n",
      "In-market/food & drink                           0\n",
      "Long-term interest/culture                       0\n",
      "Demographic/gender/male                          0\n",
      "Demographic/gender/female                        0\n",
      "dtype: int64\n"
     ]
    }
   ],
   "source": [
    "print(data.isnull().sum())"
   ]
  },
  {
   "cell_type": "code",
   "execution_count": 11,
   "id": "faee1450-d64d-47b1-b5fc-9d3091db2698",
   "metadata": {
    "ExecuteTime": {
     "end_time": "2025-03-24T13:17:31.304804Z",
     "start_time": "2025-03-24T13:17:31.299588Z"
    }
   },
   "outputs": [],
   "source": [
    "missing_cols = set(categorical_features) - set(X_train.columns)\n",
    "if missing_cols:\n",
    "    raise ValueError(f\"Следующие категориальные признаки отсутствуют в данных: {missing_cols}\")"
   ]
  },
  {
   "cell_type": "code",
   "execution_count": 10,
   "id": "fad278df-1644-4241-8f62-3ce772162479",
   "metadata": {
    "ExecuteTime": {
     "end_time": "2025-04-01T12:26:22.108694Z",
     "start_time": "2025-04-01T12:26:20.217858Z"
    }
   },
   "outputs": [],
   "source": [
    "train_pool = Pool(X_train, y_train, cat_features=[X_train.columns.get_loc(col) for col in categorical_features])\n",
    "test_pool = Pool(X_test, y_test, cat_features = [X_train.columns.get_loc(col) for col in categorical_features])"
   ]
  },
  {
   "cell_type": "code",
   "execution_count": 91,
   "id": "2528af50-3666-4998-a6e3-f7a0f8386a5c",
   "metadata": {
    "ExecuteTime": {
     "end_time": "2025-03-22T13:57:54.530643Z",
     "start_time": "2025-03-22T13:57:54.505258Z"
    }
   },
   "outputs": [
    {
     "name": "stdout",
     "output_type": "stream",
     "text": [
      "count    1.742103e+06\n",
      "mean     9.238437e+01\n",
      "std      6.392125e+01\n",
      "min      1.000000e+00\n",
      "25%      4.900000e+01\n",
      "50%      7.700000e+01\n",
      "75%      1.240000e+02\n",
      "max      2.670000e+02\n",
      "Name: Paying price, dtype: float64\n"
     ]
    }
   ],
   "source": [
    "print(data['Paying price'].describe())"
   ]
  },
  {
   "cell_type": "code",
   "execution_count": null,
   "id": "1908a9d2-b168-4de1-bfc7-169976953ea7",
   "metadata": {
    "ExecuteTime": {
     "end_time": "2025-03-31T10:44:44.537172Z",
     "start_time": "2025-03-31T10:41:26.570380Z"
    }
   },
   "outputs": [
    {
     "name": "stdout",
     "output_type": "stream",
     "text": [
      "0:\tlearn: 48.8518276\ttest: 48.7408625\tbest: 48.7408625 (0)\ttotal: 430ms\tremaining: 7m 9s\n",
      "200:\tlearn: 40.2389422\ttest: 40.6268735\tbest: 40.6268735 (200)\ttotal: 1m 38s\tremaining: 6m 31s\n",
      "Stopped by overfitting detector  (50 iterations wait)\n",
      "\n",
      "bestTest = 40.55626337\n",
      "bestIteration = 308\n",
      "\n",
      "Shrink model to first 309 iterations.\n",
      "True\n",
      "{'iterations': 1000, 'learning_rate': 0.9, 'depth': 8, 'l2_leaf_reg': 2, 'loss_function': 'RMSE', 'od_wait': 50, 'od_type': 'Iter', 'random_seed': 42, 'use_best_model': True, 'verbose': 200, 'one_hot_max_size': 10, 'random_strength': 1, 'bagging_temperature': 1}\n"
     ]
    }
   ],
   "source": [
    "model = CatBoostRegressor(\n",
    "    iterations=1000, \n",
    "    learning_rate=0.9, \n",
    "    depth=8, \n",
    "    l2_leaf_reg=2, \n",
    "    bagging_temperature=1, \n",
    "    random_strength=1, \n",
    "    one_hot_max_size=10,   \n",
    "    loss_function='RMSE',  \n",
    "    od_type='Iter',   \n",
    "    od_wait=50, \n",
    "    use_best_model=True, \n",
    "    random_seed=42,  \n",
    "    verbose=200,\n",
    "    task_type='GPU',\n",
    ")\n",
    "model.fit(train_pool, eval_set=test_pool)\n",
    "print(model.is_fitted())\n",
    "print(model.get_params())"
   ]
  },
  {
   "cell_type": "code",
   "execution_count": 13,
   "id": "e96c8b67-d97a-49c4-bf5c-51d0a7a78f42",
   "metadata": {
    "ExecuteTime": {
     "end_time": "2025-03-31T10:52:36.400162Z",
     "start_time": "2025-03-31T10:52:34.058226Z"
    }
   },
   "outputs": [
    {
     "name": "stdout",
     "output_type": "stream",
     "text": [
      "Важность факторов:\n",
      "                                       Feature Id  Importances\n",
      "0                                          Domain    37.446906\n",
      "1                                            Hour    12.245412\n",
      "2                             Ad slot floor price    10.001555\n",
      "3                                         Weekday     9.345423\n",
      "4                              Ad slot visibility     8.362022\n",
      "5                                   Ad slot width     7.104684\n",
      "6                                  Ad slot height     2.700202\n",
      "7                                     Ad exchange     1.569149\n",
      "8                                          Region     1.500383\n",
      "9                                  Ad slot format     1.470233\n",
      "10                                  Bidding price     1.136090\n",
      "11                                           City     1.039313\n",
      "12                                        browser     0.812695\n",
      "13                                             os     0.759653\n",
      "14                        Long-term interest/food     0.725011\n",
      "15               Long-term interest/entertainment     0.496759\n",
      "16           Long-term interest/online literature     0.402866\n",
      "17                                         device     0.290153\n",
      "18                              In-market/service     0.234317\n",
      "19                        Long-term interest/news     0.198055\n",
      "20                        Demographic/gender/male     0.182888\n",
      "21                                    device_type     0.180508\n",
      "22                      Long-term interest/health     0.166936\n",
      "23                          Long-term interest/3c     0.160515\n",
      "24  Long-term interest/art & photography & design     0.129969\n",
      "25                   Long-term interest/education     0.116870\n",
      "26                      Long-term interest/divine     0.105165\n",
      "27                           In-market/automobile     0.102096\n",
      "28                      Demographic/gender/female     0.096282\n",
      "29                  Long-term interest/automobile     0.081653\n",
      "30                          In-market/real estate     0.069196\n",
      "31                          Long-term interest/IT     0.062983\n",
      "32             Long-term interest/electronic game     0.060539\n",
      "33                     Long-term interest/fashion     0.052121\n",
      "34                               In-market/luxury     0.049706\n",
      "35                      Long-term interest/social     0.048277\n",
      "36                            In-market/education     0.044334\n",
      "37                      Long-term interest/luxury     0.043898\n",
      "38          Long-term interest/home and lifestyle     0.037330\n",
      "39        Long-term interest/motherhood&parenting     0.037244\n",
      "40                              In-market/finance     0.031643\n",
      "41                         In-market/food & drink     0.030532\n",
      "42                          In-market/sports item     0.029539\n",
      "43                           In-market/appliances     0.029386\n",
      "44                               In-market/travel     0.025981\n",
      "45         In-market/household & home improvement     0.023999\n",
      "46                 Long-term interest/real estate     0.023976\n",
      "47                      Long-term interest/sports     0.021249\n",
      "48                             In-market/medicine     0.020382\n",
      "49                 In-market/clothing, shoes&bags     0.017783\n",
      "50                           In-market/3c product     0.015990\n",
      "51                 In-market/health care products     0.014497\n",
      "52             Long-term interest/travel&outdoors     0.013405\n",
      "53                     Long-term interest/culture     0.012552\n",
      "54               In-market/Beauty & Personal Care     0.006835\n",
      "55                                 In-market/book     0.005506\n",
      "56                In-market/infant & mom products     0.004081\n",
      "57                      In-market/electronic game     0.003274\n",
      "58                              In-market/outdoor     0.000000\n"
     ]
    }
   ],
   "source": [
    "predictions = model.predict(X_test)\n",
    "feature_importances = model.get_feature_importance(prettified = True)\n",
    "print(\"Важность факторов:\")\n",
    "print(feature_importances)"
   ]
  },
  {
   "cell_type": "code",
   "execution_count": 94,
   "id": "6d580d31-45c3-4e39-b3fa-b5048e225af5",
   "metadata": {
    "ExecuteTime": {
     "end_time": "2025-03-22T14:01:41.461878Z",
     "start_time": "2025-03-22T14:01:41.291813Z"
    }
   },
   "outputs": [
    {
     "name": "stdout",
     "output_type": "stream",
     "text": [
      "          Ad slot width Ad slot visibility Ad slot format  True   Predicted\n",
      "5581422             950                  2              1   266  124.374945\n",
      "1557844             950                  1              1   253  116.786941\n",
      "9505726             300                  2              1   194   82.969219\n",
      "10201031            250                  1              0   216   90.185949\n",
      "8010677             120                  0              0   213   58.060432\n",
      "...                 ...                ...            ...   ...         ...\n",
      "3702197             950                255              1   223   32.774175\n",
      "5515874             300                  2              1   190   85.892050\n",
      "1525020             300                  2              1   253  128.309661\n",
      "1534569             950                255              1   265   37.420698\n",
      "1504497             950                  2              1   247  128.497709\n",
      "\n",
      "[13160 rows x 5 columns]\n"
     ]
    }
   ],
   "source": [
    "high_error_mask = (np.abs(y_test - predictions) > 100)\n",
    "high_error_data = X_test[high_error_mask].copy()\n",
    "high_error_data['True'] = y_test[high_error_mask]\n",
    "high_error_data['Predicted'] = predictions[high_error_mask]\n",
    "print(high_error_data[['Ad slot width', 'Ad slot visibility', 'Ad slot format', 'True', 'Predicted']])"
   ]
  },
  {
   "cell_type": "code",
   "execution_count": 95,
   "id": "88a72e8c-b139-4fb3-8d41-3c8062eec26e",
   "metadata": {
    "ExecuteTime": {
     "end_time": "2025-03-22T14:01:41.537310Z",
     "start_time": "2025-03-22T14:01:41.484125Z"
    }
   },
   "outputs": [
    {
     "name": "stdout",
     "output_type": "stream",
     "text": [
      "count    1.742103e+06\n",
      "mean     9.238437e+01\n",
      "std      6.392125e+01\n",
      "min      1.000000e+00\n",
      "25%      4.900000e+01\n",
      "50%      7.700000e+01\n",
      "75%      1.240000e+02\n",
      "max      2.670000e+02\n",
      "Name: Paying price, dtype: float64\n"
     ]
    }
   ],
   "source": [
    "print(data['Paying price'].describe())"
   ]
  },
  {
   "cell_type": "code",
   "execution_count": 14,
   "id": "5234393e-2467-46fd-807b-dc9446cf0618",
   "metadata": {
    "ExecuteTime": {
     "end_time": "2025-03-31T10:52:53.799099Z",
     "start_time": "2025-03-31T10:52:53.745178Z"
    }
   },
   "outputs": [],
   "source": [
    "data['Paying price log'] = np.log1p(data['Paying price'])"
   ]
  },
  {
   "cell_type": "code",
   "execution_count": 15,
   "id": "b82645f6431d19d5",
   "metadata": {
    "ExecuteTime": {
     "end_time": "2025-03-31T10:52:59.553385Z",
     "start_time": "2025-03-31T10:52:54.814290Z"
    }
   },
   "outputs": [],
   "source": [
    "X_train, X_test, y_train, y_test = train_test_split(X, data['Paying price log'], test_size=0.2, random_state=42 )\n",
    "train_pool = Pool(X_train, y_train, cat_features=[X_train.columns.get_loc(col) for col in categorical_features])\n",
    "test_pool = Pool(X_test, y_test, cat_features = [X_train.columns.get_loc(col) for col in categorical_features])"
   ]
  },
  {
   "cell_type": "code",
   "execution_count": null,
   "id": "e10d1c65be35bcfa",
   "metadata": {
    "ExecuteTime": {
     "end_time": "2025-03-31T11:02:46.808540Z",
     "start_time": "2025-03-31T10:53:20.661256Z"
    }
   },
   "outputs": [
    {
     "name": "stdout",
     "output_type": "stream",
     "text": [
      "0:\tlearn: 0.6864138\ttest: 0.6848371\tbest: 0.6848371 (0)\ttotal: 508ms\tremaining: 8m 27s\n",
      "200:\tlearn: 0.5274983\ttest: 0.5308463\tbest: 0.5308463 (200)\ttotal: 3m 25s\tremaining: 13m 35s\n",
      "400:\tlearn: 0.5177044\ttest: 0.5278208\tbest: 0.5278105 (388)\ttotal: 5m 43s\tremaining: 8m 33s\n",
      "600:\tlearn: 0.5108804\ttest: 0.5268659\tbest: 0.5268524 (599)\ttotal: 8m 6s\tremaining: 5m 22s\n",
      "Stopped by overfitting detector  (50 iterations wait)\n",
      "\n",
      "bestTest = 0.5265752866\n",
      "bestIteration = 660\n",
      "\n",
      "Shrink model to first 661 iterations.\n",
      "True\n",
      "{'iterations': 1000, 'learning_rate': 0.6, 'depth': 8, 'l2_leaf_reg': 2, 'loss_function': 'RMSE', 'od_wait': 50, 'od_type': 'Iter', 'random_seed': 42, 'use_best_model': True, 'verbose': 200, 'one_hot_max_size': 10, 'random_strength': 1, 'bagging_temperature': 1}\n"
     ]
    }
   ],
   "source": [
    "model = CatBoostRegressor(\n",
    "    iterations=1000,        \n",
    "    learning_rate=0.6,   \n",
    "    depth=8,             \n",
    "    l2_leaf_reg=2,          \n",
    "    bagging_temperature=1,  \n",
    "    random_strength=1,     \n",
    "    one_hot_max_size=10,    \n",
    "    loss_function='RMSE',     \n",
    "    od_type='Iter',  \n",
    "    od_wait=50,         \n",
    "    use_best_model=True,     \n",
    "    random_seed=42, \n",
    "    verbose=200,\n",
    "    task_type='GPU',\n",
    ")\n",
    "model.fit(train_pool, eval_set=test_pool)\n",
    "print(model.is_fitted())\n",
    "print(model.get_params())"
   ]
  },
  {
   "cell_type": "code",
   "execution_count": 18,
   "id": "f4177777af492d23",
   "metadata": {
    "ExecuteTime": {
     "end_time": "2025-03-31T11:02:49.805562Z",
     "start_time": "2025-03-31T11:02:49.045593Z"
    }
   },
   "outputs": [
    {
     "name": "stdout",
     "output_type": "stream",
     "text": [
      "\n",
      "RMSE in original scale: 42.05\n",
      "MAE in original scale: 25.38\n"
     ]
    }
   ],
   "source": [
    "y_pred_log = model.predict(test_pool)\n",
    "y_true_log = test_pool.get_label()\n",
    "predictions = model.predict(X_test)\n",
    "\n",
    "print(\"Важность факторов:\")\n",
    "print(y_pred_log)\n",
    "y_pred = np.expm1(y_pred_log)\n",
    "y_true = np.expm1(y_true_log)\n",
    "\n",
    "rmse = np.sqrt(mean_squared_error(y_true, y_pred))\n",
    "mae = mean_absolute_error(y_true, y_pred)\n",
    "\n",
    "print(f\"\\nRMSE in original scale: {rmse:.2f}\")\n",
    "print(f\"MAE in original scale: {mae:.2f}\")"
   ]
  },
  {
   "cell_type": "code",
   "execution_count": 19,
   "id": "b3abaa35957081d9",
   "metadata": {
    "ExecuteTime": {
     "end_time": "2025-03-31T11:02:50.287724Z",
     "start_time": "2025-03-31T11:02:50.263119Z"
    }
   },
   "outputs": [
    {
     "name": "stdout",
     "output_type": "stream",
     "text": [
      "Важность факторов:\n",
      "                                       Feature Id  Importances\n",
      "0                                          Domain    35.206093\n",
      "1                             Ad slot floor price    12.984861\n",
      "2                                            Hour    10.348052\n",
      "3                                         Weekday     7.925542\n",
      "4                                   Ad slot width     6.256045\n",
      "5                              Ad slot visibility     5.043103\n",
      "6                                   Bidding price     4.828204\n",
      "7                                  Ad slot height     2.713761\n",
      "8                                         browser     2.629652\n",
      "9                                          Region     1.948415\n",
      "10                                           City     1.801594\n",
      "11                                    Ad exchange     1.229013\n",
      "12                                             os     0.991607\n",
      "13                                 Ad slot format     0.819486\n",
      "14           Long-term interest/online literature     0.632604\n",
      "15               Long-term interest/entertainment     0.501272\n",
      "16                   Long-term interest/education     0.485398\n",
      "17                                         device     0.313426\n",
      "18                        Long-term interest/news     0.297369\n",
      "19                      Demographic/gender/female     0.270676\n",
      "20                                    device_type     0.220083\n",
      "21                              In-market/service     0.214991\n",
      "22                        Long-term interest/food     0.211716\n",
      "23                          Long-term interest/3c     0.169253\n",
      "24  Long-term interest/art & photography & design     0.157115\n",
      "25                        Demographic/gender/male     0.146321\n",
      "26                  Long-term interest/automobile     0.124648\n",
      "27                          Long-term interest/IT     0.118362\n",
      "28                              In-market/finance     0.110712\n",
      "29                           In-market/appliances     0.110437\n",
      "30                      Long-term interest/health     0.109787\n",
      "31                           In-market/automobile     0.094585\n",
      "32                          In-market/real estate     0.086628\n",
      "33             Long-term interest/electronic game     0.076606\n",
      "34                      Long-term interest/divine     0.072588\n",
      "35                               In-market/travel     0.069000\n",
      "36          Long-term interest/home and lifestyle     0.065757\n",
      "37                     Long-term interest/fashion     0.063173\n",
      "38                 Long-term interest/real estate     0.054512\n",
      "39                           In-market/3c product     0.044938\n",
      "40                      Long-term interest/sports     0.044832\n",
      "41                            In-market/education     0.044800\n",
      "42                      Long-term interest/social     0.044685\n",
      "43                      Long-term interest/luxury     0.044327\n",
      "44        Long-term interest/motherhood&parenting     0.041421\n",
      "45             Long-term interest/travel&outdoors     0.035788\n",
      "46                          In-market/sports item     0.033337\n",
      "47                 In-market/clothing, shoes&bags     0.019789\n",
      "48         In-market/household & home improvement     0.018211\n",
      "49                               In-market/luxury     0.016873\n",
      "50                         In-market/food & drink     0.014634\n",
      "51                     Long-term interest/culture     0.014545\n",
      "52                              In-market/outdoor     0.014520\n",
      "53                             In-market/medicine     0.014178\n",
      "54                      In-market/electronic game     0.013341\n",
      "55               In-market/Beauty & Personal Care     0.012369\n",
      "56                 In-market/health care products     0.010125\n",
      "57                                 In-market/book     0.007825\n",
      "58                In-market/infant & mom products     0.007014\n"
     ]
    }
   ],
   "source": [
    "feature_importances = model.get_feature_importance(prettified=True)\n",
    "print(\"Важность факторов:\")\n",
    "print(feature_importances)"
   ]
  },
  {
   "cell_type": "code",
   "execution_count": 24,
   "id": "1a26d4a92ff3de55",
   "metadata": {
    "ExecuteTime": {
     "end_time": "2025-03-24T14:30:22.919490Z",
     "start_time": "2025-03-24T14:30:22.908542Z"
    }
   },
   "outputs": [
    {
     "name": "stdout",
     "output_type": "stream",
     "text": [
      "MAE для аукционов >150$: 59.38\n"
     ]
    }
   ],
   "source": [
    "# Пример: ошибки для дорогих аукционов\n",
    "high_price_mask = y_true > 150\n",
    "mae_high = mean_absolute_error(y_true[high_price_mask], y_pred[high_price_mask])\n",
    "print(f\"MAE для аукционов >150$: {mae_high:.2f}\")\n",
    "\n"
   ]
  },
  {
   "cell_type": "code",
   "execution_count": 26,
   "id": "d972451f72a35ef",
   "metadata": {
    "ExecuteTime": {
     "end_time": "2025-03-24T14:35:16.646347Z",
     "start_time": "2025-03-24T14:35:15.961552Z"
    }
   },
   "outputs": [
    {
     "name": "stdout",
     "output_type": "stream",
     "text": [
      "RMSE для missing: 48.83\n",
      "RMSE для trqRTuMvjTN7X9KbuKz: 16.67\n",
      "RMSE для 5F1RQS9rg5scFsf: 11.44\n",
      "RMSE для 31xSTvprdN1RFt: 4.53\n",
      "RMSE для ersbQv1RdoTy1m58uG: 8.19\n",
      "RMSE для DFpETuxoGQdcFNKbuKz: 40.42\n",
      "RMSE для eA1XTupSMZq81YT9UDaWvpdh: 12.68\n",
      "RMSE для trqRTvpogNlyDok4JKTI: 38.63\n",
      "RMSE для trqRTuNoGTlyDok4JKTI: 36.94\n",
      "RMSE для DSmreF9aBTN7gqKbuKz: 25.59\n"
     ]
    }
   ],
   "source": [
    "top_domains = data['Domain'].value_counts().nlargest(10).index.tolist()\n",
    "# Ошибки по доменам\n",
    "for domain in top_domains:\n",
    "    mask = X_test['Domain'] == domain\n",
    "    rmse_domain = np.sqrt(mean_squared_error(y_true[mask], y_pred[mask]))\n",
    "    print(f\"RMSE для {domain}: {rmse_domain:.2f}\")"
   ]
  },
  {
   "cell_type": "code",
   "execution_count": 20,
   "id": "876436b635be947d",
   "metadata": {
    "ExecuteTime": {
     "end_time": "2025-03-31T11:02:51.831345Z",
     "start_time": "2025-03-31T11:02:50.456855Z"
    }
   },
   "outputs": [],
   "source": [
    "data[\"s\"] = data['Ad slot width'] * data['Ad slot height']\n",
    "data['weekend_flag'] = data['Weekday'].isin([5, 6]).astype(int)\n",
    "data['aspect_ratio'] = data['Ad slot width'] / (data['Ad slot height'] + 1e-6)\n",
    "data['domain_hour_interaction'] = data['Domain'].astype(str) + '_' + data['Hour'].astype(str)\n",
    "data['floor_bid_ratio'] = data['Bidding price'] / (data['Ad slot floor price'] + 1e-6)"
   ]
  },
  {
   "cell_type": "code",
   "execution_count": 21,
   "id": "224e5bdcd6a29c91",
   "metadata": {
    "ExecuteTime": {
     "end_time": "2025-03-31T11:02:55.232974Z",
     "start_time": "2025-03-31T11:02:51.849833Z"
    }
   },
   "outputs": [],
   "source": [
    "categorical_features = [\n",
    "    'City', 'Region', 'Ad exchange', 'Ad slot visibility', 'Ad slot format', \"Hour\", \"Weekday\", \"Domain\", \"os\", \"device\", \"device_type\", \"browser\"]\n",
    "\n",
    "categorical_features+=[ 'weekend_flag', 'floor_bid_ratio', 'domain_hour_interaction']\n",
    "for col in categorical_features:\n",
    "    # Заменяем NaN на строку 'missing'\n",
    "    data[col] = data[col].fillna('missing')\n",
    "    # Преобразуем все значения в строки\n",
    "    data[col] = data[col].astype(str)"
   ]
  },
  {
   "cell_type": "code",
   "execution_count": 22,
   "id": "788378e118e860ea",
   "metadata": {
    "ExecuteTime": {
     "end_time": "2025-03-31T11:03:03.523535Z",
     "start_time": "2025-03-31T11:02:55.736360Z"
    }
   },
   "outputs": [],
   "source": [
    "X = data.drop(columns=['Paying price', 'Paying price log'], errors='ignore')\n",
    "y = data['Paying price']\n",
    "X_train, X_test, y_train, y_test = train_test_split(X, y, test_size=0.2, random_state=42 )\n",
    "train_pool = Pool(X_train, y_train, cat_features= categorical_features)\n",
    "test_pool = Pool(X_test, y_test, cat_features =categorical_features)"
   ]
  },
  {
   "cell_type": "code",
   "execution_count": 13,
   "id": "bafa5127cae59845",
   "metadata": {
    "ExecuteTime": {
     "end_time": "2025-04-01T12:41:50.637154Z",
     "start_time": "2025-04-01T12:31:16.730354Z"
    }
   },
   "outputs": [
    {
     "name": "stdout",
     "output_type": "stream",
     "text": [
      "0:\tlearn: 35.5586240\ttest: 35.5211772\tbest: 35.5211772 (0)\ttotal: 1.23s\tremaining: 20m 25s\n",
      "200:\tlearn: 27.6397532\ttest: 27.5700772\tbest: 27.5700772 (200)\ttotal: 3m 2s\tremaining: 12m 4s\n",
      "400:\tlearn: 26.8216493\ttest: 26.7214553\tbest: 26.7214553 (400)\ttotal: 4m 57s\tremaining: 7m 24s\n",
      "600:\tlearn: 26.5229441\ttest: 26.4196573\tbest: 26.4196573 (600)\ttotal: 6m 56s\tremaining: 4m 36s\n",
      "800:\tlearn: 26.2859676\ttest: 26.1790860\tbest: 26.1790860 (800)\ttotal: 8m 48s\tremaining: 2m 11s\n",
      "999:\tlearn: 26.0148865\ttest: 25.9057820\tbest: 25.9057705 (995)\ttotal: 10m 30s\tremaining: 0us\n",
      "\n",
      "bestTest = 25.9057705\n",
      "bestIteration = 995\n",
      "\n",
      "Shrink model to first 996 iterations.\n",
      "True\n",
      "{'iterations': 1000, 'learning_rate': 0.9, 'depth': 6, 'l2_leaf_reg': 5, 'loss_function': 'MAE', 'od_wait': 50, 'od_type': 'Iter', 'random_seed': 42, 'use_best_model': True, 'verbose': 200, 'one_hot_max_size': 10, 'random_strength': 1, 'bagging_temperature': 1}\n"
     ]
    }
   ],
   "source": [
    "\n",
    "model = CatBoostRegressor(\n",
    "    iterations=1000,            # Максимальное число итераций\n",
    "    learning_rate=0.9,         # Скорость обучения\n",
    "    depth=6,                    # Глубина деревьев\n",
    "    l2_leaf_reg=5,              # Регуляризация\n",
    "    bagging_temperature=1,      # Рандомизация бутстрэпа\n",
    "    random_strength=1,          # Случайность разбиений\n",
    "    one_hot_max_size=10,        # Признаки с уникальными значениями <= 10 будут one-hot кодироваться\n",
    "    loss_function='MAE',       # Потеря (можно попробовать 'Quantile:alpha=0.5' для устойчивости к выбросам)\n",
    "    od_type='Iter',             # Тип ранней остановки\n",
    "    od_wait=50,                 # Количество итераций для early stopping\n",
    "    use_best_model=True,        # Использовать лучшую модель по валидационной выборке\n",
    "    random_seed=42,             # Фиксированный seed для воспроизводимости\n",
    "    verbose=200,\n",
    "    #task_type='GPU',# Вывод прогресса обучения\n",
    ")\n",
    "model.fit(train_pool, eval_set=test_pool)\n",
    "print(model.is_fitted())\n",
    "print(model.get_params())"
   ]
  },
  {
   "cell_type": "code",
   "execution_count": 14,
   "id": "6281768c91cf439f",
   "metadata": {
    "ExecuteTime": {
     "end_time": "2025-04-01T12:53:42.865427Z",
     "start_time": "2025-04-01T12:41:51.012666Z"
    }
   },
   "outputs": [
    {
     "name": "stdout",
     "output_type": "stream",
     "text": [
      "0:\tlearn: 17.7793120\ttest: 17.7605886\tbest: 17.7605886 (0)\ttotal: 986ms\tremaining: 16m 25s\n",
      "200:\tlearn: 13.8198766\ttest: 13.7850386\tbest: 13.7850386 (200)\ttotal: 3m 27s\tremaining: 13m 42s\n",
      "400:\tlearn: 13.4108246\ttest: 13.3607277\tbest: 13.3607277 (400)\ttotal: 5m 50s\tremaining: 8m 43s\n",
      "600:\tlearn: 13.2614720\ttest: 13.2098286\tbest: 13.2098286 (600)\ttotal: 7m 56s\tremaining: 5m 16s\n",
      "800:\tlearn: 13.1429838\ttest: 13.0895430\tbest: 13.0895430 (800)\ttotal: 9m 52s\tremaining: 2m 27s\n",
      "999:\tlearn: 13.0074433\ttest: 12.9528910\tbest: 12.9528852 (995)\ttotal: 11m 48s\tremaining: 0us\n",
      "\n",
      "bestTest = 12.95288525\n",
      "bestIteration = 995\n",
      "\n",
      "Shrink model to first 996 iterations.\n",
      "True\n",
      "{'iterations': 1000, 'learning_rate': 0.9, 'depth': 6, 'l2_leaf_reg': 5, 'loss_function': 'Quantile:alpha=0.5', 'od_wait': 50, 'od_type': 'Iter', 'random_seed': 42, 'use_best_model': True, 'verbose': 200, 'one_hot_max_size': 10, 'random_strength': 1, 'bagging_temperature': 1}\n"
     ]
    }
   ],
   "source": [
    "model = CatBoostRegressor(\n",
    "    iterations=1000,            # Максимальное число итераций\n",
    "    learning_rate=0.9,         # Скорость обучения\n",
    "    depth=6,                    # Глубина деревьев\n",
    "    l2_leaf_reg=5,              # Регуляризация\n",
    "    bagging_temperature=1,      # Рандомизация бутстрэпа\n",
    "    random_strength=1,          # Случайность разбиений\n",
    "    one_hot_max_size=10,        # Признаки с уникальными значениями <= 10 будут one-hot кодироваться\n",
    "    loss_function='Quantile:alpha=0.5', # Потеря (можно попробовать 'Quantile:alpha=0.5' для устойчивости к выбросам)\n",
    "    od_type='Iter',             # Тип ранней остановки\n",
    "    od_wait=50,                 # Количество итераций для early stopping\n",
    "    use_best_model=True,        # Использовать лучшую модель по валидационной выборке\n",
    "    random_seed=42,             # Фиксированный seed для воспроизводимости\n",
    "    verbose=200,\n",
    "    #task_type='GPU',# Вывод прогресса обучения\n",
    ")\n",
    "model.fit(train_pool, eval_set=test_pool)\n",
    "print(model.is_fitted())\n",
    "print(model.get_params())"
   ]
  },
  {
   "cell_type": "code",
   "execution_count": null,
   "id": "9841afa46b3ca462",
   "metadata": {},
   "outputs": [],
   "source": [
    "predictions = model.predict(test_pool)\n",
    "feature_importances = model.get_feature_importance(prettified = True)\n",
    "print(\"Важность факторов:\")\n",
    "print(feature_importances)"
   ]
  }
 ],
 "metadata": {
  "kernelspec": {
   "display_name": "Python 3 (ipykernel)",
   "language": "python",
   "name": "python3"
  },
  "language_info": {
   "codemirror_mode": {
    "name": "ipython",
    "version": 3
   },
   "file_extension": ".py",
   "mimetype": "text/x-python",
   "name": "python",
   "nbconvert_exporter": "python",
   "pygments_lexer": "ipython3",
   "version": "3.12.7"
  }
 },
 "nbformat": 4,
 "nbformat_minor": 5
}
