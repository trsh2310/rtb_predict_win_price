{
 "cells": [
  {
   "cell_type": "code",
   "id": "17a733f8-e8ac-46c2-9076-2c0050a151ba",
   "metadata": {
    "ExecuteTime": {
     "end_time": "2025-03-24T11:52:03.846244Z",
     "start_time": "2025-03-24T11:52:03.513434Z"
    }
   },
   "source": [
    "import pandas as pd\n",
    "import numpy as np\n",
    "from catboost import CatBoostClassifier, Pool\n",
    "from matplotlib import pyplot as plt\n",
    "from sklearn.metrics import mean_squared_error, mean_absolute_error\n",
    "from sklearn.model_selection import train_test_split\n",
    "from user_agents import parse"
   ],
   "outputs": [],
   "execution_count": 1
  },
  {
   "cell_type": "code",
   "id": "5aedc22a-8295-4e80-8054-9de524daefcb",
   "metadata": {
    "ExecuteTime": {
     "end_time": "2025-03-24T11:53:02.857256Z",
     "start_time": "2025-03-24T11:52:03.852975Z"
    }
   },
   "source": "data = pd.read_csv('data/final_data.csv', sep=\",\", header = 0)",
   "outputs": [],
   "execution_count": 2
  },
  {
   "cell_type": "code",
   "id": "9994b901-a254-4ade-9043-12ce35058117",
   "metadata": {
    "ExecuteTime": {
     "end_time": "2025-03-24T11:53:15.268412Z",
     "start_time": "2025-03-24T11:53:15.265892Z"
    }
   },
   "source": [
    "data_columns = [\n",
    "    \"Bid ID\", \"Timestamp\", \"Log type\", \"iPinYou ID\", \"User-Agent\", \"IP\",\n",
    "    \"Region\", \"City\", \"Ad exchange\", \"Domain\", \"URL\", \"Anonymous URL ID\",\n",
    "    \"Ad slot ID\", \"Ad slot width\", \"Ad slot height\", \"Ad slot visibility\",\n",
    "    \"Ad slot format\", \"Ad slot floor price\", \"Creative ID\", \"Bidding price\",\n",
    "    \"Paying price\", \"Key page URL\", \"Advertiser ID\", \"User Tags\", 'All paying price',\n",
    "]\n",
    "columns_to_drop = [\n",
    "    \"Bid ID\", \"iPinYou ID\", \"User-Agent\", \"IP\", \"URL\", \"Log type\", \"Timestamp\",\n",
    "    \"Anonymous URL ID\", \"Creative ID\", \"Key page URL\", \"Ad slot ID\", \"Advertiser ID\", 'All paying price', \"User Tags\",\n",
    "]\n"
   ],
   "outputs": [],
   "execution_count": 7
  },
  {
   "cell_type": "code",
   "id": "07e45dc1-f648-49e3-aeb8-04887b8a5fd3",
   "metadata": {
    "ExecuteTime": {
     "end_time": "2025-03-24T11:53:05.703821Z",
     "start_time": "2025-03-24T11:53:03.125712Z"
    }
   },
   "source": [
    "#data = data.drop_duplicates()\n",
    "data = data[data['Advertiser ID'] == 3476]\n",
    "data = data[data[\"Paying price\"] > 0]"
   ],
   "outputs": [],
   "execution_count": 4
  },
  {
   "cell_type": "code",
   "id": "250e7d70-987b-43be-9fbd-d558f51571ad",
   "metadata": {
    "ExecuteTime": {
     "end_time": "2025-03-24T11:53:05.717251Z",
     "start_time": "2025-03-24T11:53:05.714891Z"
    }
   },
   "source": [
    "def parse_timestamp(ts):\n",
    "    ts_str = str(ts)\n",
    "    year = int(ts_str[:4])\n",
    "    month = int(ts_str[4:6])\n",
    "    day = int(ts_str[6:8])\n",
    "    hour = int(ts_str[8:10])\n",
    "    minute = int(ts_str[10:12])\n",
    "    return pd.Timestamp(year=year, month=month, day=day, hour=hour, minute=minute)\n"
   ],
   "outputs": [],
   "execution_count": 5
  },
  {
   "cell_type": "code",
   "id": "ed424f86-3dab-4423-a24b-09d35bea9c9d",
   "metadata": {
    "ExecuteTime": {
     "end_time": "2025-03-24T11:53:10.965616Z",
     "start_time": "2025-03-24T11:53:05.724398Z"
    }
   },
   "source": [
    "data['Timestamp'] = data['Timestamp'].apply(parse_timestamp)\n",
    "data['Hour'] = data['Timestamp'].dt.hour\n",
    "data['Weekday'] = data['Timestamp'].dt.weekday"
   ],
   "outputs": [],
   "execution_count": 6
  },
  {
   "metadata": {
    "ExecuteTime": {
     "end_time": "2025-03-24T11:53:19.714619Z",
     "start_time": "2025-03-24T11:53:19.379297Z"
    }
   },
   "cell_type": "code",
   "source": [
    "data[\"s\"] = data['Ad slot width'] * data['Ad slot height']\n",
    "data['weekend_flag'] = data['Weekday'].isin([5, 6]).astype(int)\n",
    "data['aspect_ratio'] = data['Ad slot width'] / (data['Ad slot height'] + 1e-6)\n",
    "data['domain_hour_interaction'] = data['Domain'].astype(str) + '_' + data['Hour'].astype(str)\n",
    "data['floor_bid_ratio'] = data['Bidding price'] / (data['Ad slot floor price'] + 1e-6)\n",
    "categorical_features = [\n",
    "    'City', 'Region', 'Ad exchange', 'Ad slot visibility', 'Ad slot format', \"Hour\", \"Weekday\", \"Domain\", \"os\", \"device\", \"device_type\", \"browser\"]\n",
    "\n",
    "categorical_features+=[ 'weekend_flag', 'floor_bid_ratio', 'domain_hour_interaction']"
   ],
   "id": "d1fc83d31681ce94",
   "outputs": [],
   "execution_count": 8
  },
  {
   "metadata": {
    "ExecuteTime": {
     "end_time": "2025-03-22T13:57:43.560094Z",
     "start_time": "2025-03-22T13:57:23.181299Z"
    }
   },
   "cell_type": "code",
   "source": [
    "tag_names = {\n",
    "    '10006': 'Long-term interest/news',\n",
    "    '10024': 'Long-term interest/education',\n",
    "    '10031': 'Long-term interest/automobile',\n",
    "    '10048': 'Long-term interest/real estate',\n",
    "    '10052': 'Long-term interest/IT',\n",
    "    '10057': 'Long-term interest/electronic game',\n",
    "    '10059': 'Long-term interest/fashion',\n",
    "    '10063': 'Long-term interest/entertainment',\n",
    "    '10067': 'Long-term interest/luxury',\n",
    "    '10074': 'Long-term interest/home and lifestyle',\n",
    "    '10075': 'Long-term interest/health',\n",
    "    '10076': 'Long-term interest/food',\n",
    "    '10077': 'Long-term interest/divine',\n",
    "    '10079': 'Long-term interest/motherhood&parenting',\n",
    "    '10083': 'Long-term interest/sports',\n",
    "    '10093': 'Long-term interest/travel&outdoors',\n",
    "    '10102': 'Long-term interest/social',\n",
    "    '10684': 'In-market/3c product',\n",
    "    '11092': 'In-market/appliances',\n",
    "    '11278': 'In-market/clothing, shoes&bags',\n",
    "    '11379': 'In-market/Beauty & Personal Care',\n",
    "    '11423': 'In-market/household & home improvement',\n",
    "    '11512': 'In-market/infant & mom products',\n",
    "    '11576': 'In-market/sports item',\n",
    "    '11632': 'In-market/outdoor',\n",
    "    '11680': 'In-market/health care products',\n",
    "    '11724': 'In-market/luxury',\n",
    "    '11944': 'In-market/real estate',\n",
    "    '13042': 'In-market/automobile',\n",
    "    '13403': 'In-market/finance',\n",
    "    '13496': 'In-market/travel',\n",
    "    '13678': 'In-market/education',\n",
    "    '13776': 'In-market/service',\n",
    "    '13800': 'Long-term interest/art & photography & design',\n",
    "    '13866': 'Long-term interest/online literature',\n",
    "    '13874': 'In-market/electronic game',\n",
    "    '14273': 'Long-term interest/3c',\n",
    "    '16593': 'In-market/book',\n",
    "    '16617': 'In-market/medicine',\n",
    "    '16661': 'In-market/food & drink',\n",
    "    '16706': 'Long-term interest/culture',\n",
    "    '10110': 'Demographic/gender/male',\n",
    "    '10111': 'Demographic/gender/female'\n",
    "}\n",
    "data['User Tags'] = data['User Tags'].fillna('').astype(str)\n",
    "\n",
    "for tag, name in tag_names.items():\n",
    "    data[name] = data['User Tags'].apply(lambda x: 1 if tag in x.split(',') else 0)"
   ],
   "id": "425f19bafe79d87d",
   "outputs": [],
   "execution_count": 82
  },
  {
   "metadata": {
    "ExecuteTime": {
     "end_time": "2025-03-22T13:57:45.785231Z",
     "start_time": "2025-03-22T13:57:43.600521Z"
    }
   },
   "cell_type": "code",
   "source": "",
   "id": "3f14f4df56a5896c",
   "outputs": [
    {
     "name": "stdout",
     "output_type": "stream",
     "text": [
      "Bid ID                        1727541\n",
      "Timestamp                        1058\n",
      "Log type                            1\n",
      "iPinYou ID                    1518882\n",
      "IP                             445851\n",
      "                               ...   \n",
      "In-market/medicine                  2\n",
      "In-market/food & drink              2\n",
      "Long-term interest/culture          2\n",
      "Demographic/gender/male             2\n",
      "Demographic/gender/female           2\n",
      "Length: 73, dtype: int64\n"
     ]
    }
   ],
   "execution_count": 83
  },
  {
   "metadata": {
    "ExecuteTime": {
     "end_time": "2025-03-24T11:53:24.337044Z",
     "start_time": "2025-03-24T11:53:24.110153Z"
    }
   },
   "cell_type": "code",
   "source": "data = data.drop(columns=columns_to_drop, errors='ignore')",
   "id": "4a8b7eca-3a52-42c9-96eb-e8e364da0b61",
   "outputs": [],
   "execution_count": 9
  },
  {
   "cell_type": "code",
   "id": "17cba8b6-d5f6-469a-bdea-21cd5032785b",
   "metadata": {
    "ExecuteTime": {
     "end_time": "2025-03-24T13:00:01.541581Z",
     "start_time": "2025-03-24T12:59:54.771210Z"
    }
   },
   "source": [
    "for col in categorical_features:\n",
    "    data[col] = data[col].fillna(\"missing\").astype(str)\n",
    "\n",
    "n_bins = 25\n",
    "bins = np.linspace(data['Paying price'].min(), data['Paying price'].max(), n_bins + 1)\n",
    "data['price_bin'] = pd.cut(data['Paying price'], bins=bins, labels=False, include_lowest=True)\n",
    "\n",
    "X = data.drop(columns=['Paying price', 'price_bin'], errors='ignore')\n",
    "y = data['price_bin']\n",
    "\n",
    "X_train, X_test, y_train, y_test = train_test_split(X, y, test_size=0.2, random_state=42)"
   ],
   "outputs": [],
   "execution_count": 23
  },
  {
   "cell_type": "code",
   "id": "faee1450-d64d-47b1-b5fc-9d3091db2698",
   "metadata": {
    "ExecuteTime": {
     "end_time": "2025-03-24T13:00:04.299577Z",
     "start_time": "2025-03-24T13:00:04.295192Z"
    }
   },
   "source": [
    "missing_cols = set(categorical_features) - set(X_train.columns)\n",
    "if missing_cols:\n",
    "    raise ValueError(f\"Следующие категориальные признаки отсутствуют в данных: {missing_cols}\")"
   ],
   "outputs": [],
   "execution_count": 24
  },
  {
   "cell_type": "code",
   "id": "fad278df-1644-4241-8f62-3ce772162479",
   "metadata": {
    "ExecuteTime": {
     "end_time": "2025-03-24T13:13:30.669523Z",
     "start_time": "2025-03-24T13:11:52.627281Z"
    }
   },
   "source": [
    "import ipywidgets\n",
    "\n",
    "model = CatBoostClassifier(\n",
    "    iterations=500,\n",
    "    depth=6,\n",
    "    learning_rate=0.5,\n",
    "    od_wait=100,\n",
    "    cat_features=categorical_features,\n",
    "    verbose = 100\n",
    ")\n",
    "model.fit(X_train, y_train, eval_set = (X_test, y_test), )"
   ],
   "outputs": [
    {
     "ename": "KeyboardInterrupt",
     "evalue": "",
     "output_type": "error",
     "traceback": [
      "\u001B[0;31m---------------------------------------------------------------------------\u001B[0m",
      "\u001B[0;31mKeyboardInterrupt\u001B[0m                         Traceback (most recent call last)",
      "Cell \u001B[0;32mIn[27], line 11\u001B[0m\n\u001B[1;32m      1\u001B[0m \u001B[38;5;28;01mimport\u001B[39;00m \u001B[38;5;21;01mipywidgets\u001B[39;00m\n\u001B[1;32m      3\u001B[0m model \u001B[38;5;241m=\u001B[39m CatBoostClassifier(\n\u001B[1;32m      4\u001B[0m     iterations\u001B[38;5;241m=\u001B[39m\u001B[38;5;241m500\u001B[39m,\n\u001B[1;32m      5\u001B[0m     depth\u001B[38;5;241m=\u001B[39m\u001B[38;5;241m6\u001B[39m,\n\u001B[0;32m   (...)\u001B[0m\n\u001B[1;32m      9\u001B[0m     verbose \u001B[38;5;241m=\u001B[39m \u001B[38;5;28;01mTrue\u001B[39;00m\n\u001B[1;32m     10\u001B[0m )\n\u001B[0;32m---> 11\u001B[0m \u001B[43mmodel\u001B[49m\u001B[38;5;241;43m.\u001B[39;49m\u001B[43mfit\u001B[49m\u001B[43m(\u001B[49m\u001B[43mX_train\u001B[49m\u001B[43m,\u001B[49m\u001B[43m \u001B[49m\u001B[43my_train\u001B[49m\u001B[43m,\u001B[49m\u001B[43m \u001B[49m\u001B[43meval_set\u001B[49m\u001B[43m \u001B[49m\u001B[38;5;241;43m=\u001B[39;49m\u001B[43m \u001B[49m\u001B[43m(\u001B[49m\u001B[43mX_test\u001B[49m\u001B[43m,\u001B[49m\u001B[43m \u001B[49m\u001B[43my_test\u001B[49m\u001B[43m)\u001B[49m\u001B[43m,\u001B[49m\u001B[43m \u001B[49m\u001B[43m)\u001B[49m\n",
      "File \u001B[0;32m/Library/Python/3.9/site-packages/catboost/core.py:5245\u001B[0m, in \u001B[0;36mCatBoostClassifier.fit\u001B[0;34m(self, X, y, cat_features, text_features, embedding_features, graph, sample_weight, baseline, use_best_model, eval_set, verbose, logging_level, plot, plot_file, column_description, verbose_eval, metric_period, silent, early_stopping_rounds, save_snapshot, snapshot_file, snapshot_interval, init_model, callbacks, log_cout, log_cerr)\u001B[0m\n\u001B[1;32m   5242\u001B[0m \u001B[38;5;28;01mif\u001B[39;00m \u001B[38;5;124m'\u001B[39m\u001B[38;5;124mloss_function\u001B[39m\u001B[38;5;124m'\u001B[39m \u001B[38;5;129;01min\u001B[39;00m params:\n\u001B[1;32m   5243\u001B[0m     CatBoostClassifier\u001B[38;5;241m.\u001B[39m_check_is_compatible_loss(params[\u001B[38;5;124m'\u001B[39m\u001B[38;5;124mloss_function\u001B[39m\u001B[38;5;124m'\u001B[39m])\n\u001B[0;32m-> 5245\u001B[0m \u001B[38;5;28;43mself\u001B[39;49m\u001B[38;5;241;43m.\u001B[39;49m\u001B[43m_fit\u001B[49m\u001B[43m(\u001B[49m\u001B[43mX\u001B[49m\u001B[43m,\u001B[49m\u001B[43m \u001B[49m\u001B[43my\u001B[49m\u001B[43m,\u001B[49m\u001B[43m \u001B[49m\u001B[43mcat_features\u001B[49m\u001B[43m,\u001B[49m\u001B[43m \u001B[49m\u001B[43mtext_features\u001B[49m\u001B[43m,\u001B[49m\u001B[43m \u001B[49m\u001B[43membedding_features\u001B[49m\u001B[43m,\u001B[49m\u001B[43m \u001B[49m\u001B[38;5;28;43;01mNone\u001B[39;49;00m\u001B[43m,\u001B[49m\u001B[43m \u001B[49m\u001B[43mgraph\u001B[49m\u001B[43m,\u001B[49m\u001B[43m \u001B[49m\u001B[43msample_weight\u001B[49m\u001B[43m,\u001B[49m\u001B[43m \u001B[49m\u001B[38;5;28;43;01mNone\u001B[39;49;00m\u001B[43m,\u001B[49m\u001B[43m \u001B[49m\u001B[38;5;28;43;01mNone\u001B[39;49;00m\u001B[43m,\u001B[49m\u001B[43m \u001B[49m\u001B[38;5;28;43;01mNone\u001B[39;49;00m\u001B[43m,\u001B[49m\u001B[43m \u001B[49m\u001B[38;5;28;43;01mNone\u001B[39;49;00m\u001B[43m,\u001B[49m\u001B[43m \u001B[49m\u001B[43mbaseline\u001B[49m\u001B[43m,\u001B[49m\u001B[43m \u001B[49m\u001B[43muse_best_model\u001B[49m\u001B[43m,\u001B[49m\n\u001B[1;32m   5246\u001B[0m \u001B[43m          \u001B[49m\u001B[43meval_set\u001B[49m\u001B[43m,\u001B[49m\u001B[43m \u001B[49m\u001B[43mverbose\u001B[49m\u001B[43m,\u001B[49m\u001B[43m \u001B[49m\u001B[43mlogging_level\u001B[49m\u001B[43m,\u001B[49m\u001B[43m \u001B[49m\u001B[43mplot\u001B[49m\u001B[43m,\u001B[49m\u001B[43m \u001B[49m\u001B[43mplot_file\u001B[49m\u001B[43m,\u001B[49m\u001B[43m \u001B[49m\u001B[43mcolumn_description\u001B[49m\u001B[43m,\u001B[49m\u001B[43m \u001B[49m\u001B[43mverbose_eval\u001B[49m\u001B[43m,\u001B[49m\u001B[43m \u001B[49m\u001B[43mmetric_period\u001B[49m\u001B[43m,\u001B[49m\n\u001B[1;32m   5247\u001B[0m \u001B[43m          \u001B[49m\u001B[43msilent\u001B[49m\u001B[43m,\u001B[49m\u001B[43m \u001B[49m\u001B[43mearly_stopping_rounds\u001B[49m\u001B[43m,\u001B[49m\u001B[43m \u001B[49m\u001B[43msave_snapshot\u001B[49m\u001B[43m,\u001B[49m\u001B[43m \u001B[49m\u001B[43msnapshot_file\u001B[49m\u001B[43m,\u001B[49m\u001B[43m \u001B[49m\u001B[43msnapshot_interval\u001B[49m\u001B[43m,\u001B[49m\u001B[43m \u001B[49m\u001B[43minit_model\u001B[49m\u001B[43m,\u001B[49m\u001B[43m \u001B[49m\u001B[43mcallbacks\u001B[49m\u001B[43m,\u001B[49m\u001B[43m \u001B[49m\u001B[43mlog_cout\u001B[49m\u001B[43m,\u001B[49m\u001B[43m \u001B[49m\u001B[43mlog_cerr\u001B[49m\u001B[43m)\u001B[49m\n\u001B[1;32m   5248\u001B[0m \u001B[38;5;28;01mreturn\u001B[39;00m \u001B[38;5;28mself\u001B[39m\n",
      "File \u001B[0;32m/Library/Python/3.9/site-packages/catboost/core.py:2410\u001B[0m, in \u001B[0;36mCatBoost._fit\u001B[0;34m(self, X, y, cat_features, text_features, embedding_features, pairs, graph, sample_weight, group_id, group_weight, subgroup_id, pairs_weight, baseline, use_best_model, eval_set, verbose, logging_level, plot, plot_file, column_description, verbose_eval, metric_period, silent, early_stopping_rounds, save_snapshot, snapshot_file, snapshot_interval, init_model, callbacks, log_cout, log_cerr)\u001B[0m\n\u001B[1;32m   2407\u001B[0m allow_clear_pool \u001B[38;5;241m=\u001B[39m train_params[\u001B[38;5;124m\"\u001B[39m\u001B[38;5;124mallow_clear_pool\u001B[39m\u001B[38;5;124m\"\u001B[39m]\n\u001B[1;32m   2409\u001B[0m \u001B[38;5;28;01mwith\u001B[39;00m plot_wrapper(plot, plot_file, \u001B[38;5;124m'\u001B[39m\u001B[38;5;124mTraining plots\u001B[39m\u001B[38;5;124m'\u001B[39m, [_get_train_dir(\u001B[38;5;28mself\u001B[39m\u001B[38;5;241m.\u001B[39mget_params())]):\n\u001B[0;32m-> 2410\u001B[0m     \u001B[38;5;28;43mself\u001B[39;49m\u001B[38;5;241;43m.\u001B[39;49m\u001B[43m_train\u001B[49m\u001B[43m(\u001B[49m\n\u001B[1;32m   2411\u001B[0m \u001B[43m        \u001B[49m\u001B[43mtrain_pool\u001B[49m\u001B[43m,\u001B[49m\n\u001B[1;32m   2412\u001B[0m \u001B[43m        \u001B[49m\u001B[43mtrain_params\u001B[49m\u001B[43m[\u001B[49m\u001B[38;5;124;43m\"\u001B[39;49m\u001B[38;5;124;43meval_sets\u001B[39;49m\u001B[38;5;124;43m\"\u001B[39;49m\u001B[43m]\u001B[49m\u001B[43m,\u001B[49m\n\u001B[1;32m   2413\u001B[0m \u001B[43m        \u001B[49m\u001B[43mparams\u001B[49m\u001B[43m,\u001B[49m\n\u001B[1;32m   2414\u001B[0m \u001B[43m        \u001B[49m\u001B[43mallow_clear_pool\u001B[49m\u001B[43m,\u001B[49m\n\u001B[1;32m   2415\u001B[0m \u001B[43m        \u001B[49m\u001B[43mtrain_params\u001B[49m\u001B[43m[\u001B[49m\u001B[38;5;124;43m\"\u001B[39;49m\u001B[38;5;124;43minit_model\u001B[39;49m\u001B[38;5;124;43m\"\u001B[39;49m\u001B[43m]\u001B[49m\n\u001B[1;32m   2416\u001B[0m \u001B[43m    \u001B[49m\u001B[43m)\u001B[49m\n\u001B[1;32m   2418\u001B[0m \u001B[38;5;66;03m# Have property feature_importance possibly set\u001B[39;00m\n\u001B[1;32m   2419\u001B[0m loss \u001B[38;5;241m=\u001B[39m \u001B[38;5;28mself\u001B[39m\u001B[38;5;241m.\u001B[39m_object\u001B[38;5;241m.\u001B[39m_get_loss_function_name()\n",
      "File \u001B[0;32m/Library/Python/3.9/site-packages/catboost/core.py:1790\u001B[0m, in \u001B[0;36m_CatBoostBase._train\u001B[0;34m(self, train_pool, test_pool, params, allow_clear_pool, init_model)\u001B[0m\n\u001B[1;32m   1789\u001B[0m \u001B[38;5;28;01mdef\u001B[39;00m \u001B[38;5;21m_train\u001B[39m(\u001B[38;5;28mself\u001B[39m, train_pool, test_pool, params, allow_clear_pool, init_model):\n\u001B[0;32m-> 1790\u001B[0m     \u001B[38;5;28;43mself\u001B[39;49m\u001B[38;5;241;43m.\u001B[39;49m\u001B[43m_object\u001B[49m\u001B[38;5;241;43m.\u001B[39;49m\u001B[43m_train\u001B[49m\u001B[43m(\u001B[49m\u001B[43mtrain_pool\u001B[49m\u001B[43m,\u001B[49m\u001B[43m \u001B[49m\u001B[43mtest_pool\u001B[49m\u001B[43m,\u001B[49m\u001B[43m \u001B[49m\u001B[43mparams\u001B[49m\u001B[43m,\u001B[49m\u001B[43m \u001B[49m\u001B[43mallow_clear_pool\u001B[49m\u001B[43m,\u001B[49m\u001B[43m \u001B[49m\u001B[43minit_model\u001B[49m\u001B[38;5;241;43m.\u001B[39;49m\u001B[43m_object\u001B[49m\u001B[43m \u001B[49m\u001B[38;5;28;43;01mif\u001B[39;49;00m\u001B[43m \u001B[49m\u001B[43minit_model\u001B[49m\u001B[43m \u001B[49m\u001B[38;5;28;43;01melse\u001B[39;49;00m\u001B[43m \u001B[49m\u001B[38;5;28;43;01mNone\u001B[39;49;00m\u001B[43m)\u001B[49m\n\u001B[1;32m   1791\u001B[0m     \u001B[38;5;28mself\u001B[39m\u001B[38;5;241m.\u001B[39m_set_trained_model_attributes()\n",
      "File \u001B[0;32m_catboost.pyx:5017\u001B[0m, in \u001B[0;36m_catboost._CatBoost._train\u001B[0;34m()\u001B[0m\n",
      "File \u001B[0;32m_catboost.pyx:5066\u001B[0m, in \u001B[0;36m_catboost._CatBoost._train\u001B[0;34m()\u001B[0m\n",
      "\u001B[0;31mKeyboardInterrupt\u001B[0m: "
     ]
    }
   ],
   "execution_count": 27
  }
 ],
 "metadata": {
  "kernelspec": {
   "display_name": "Python 3 (ipykernel)",
   "language": "python",
   "name": "python3"
  },
  "language_info": {
   "codemirror_mode": {
    "name": "ipython",
    "version": 3
   },
   "file_extension": ".py",
   "mimetype": "text/x-python",
   "name": "python",
   "nbconvert_exporter": "python",
   "pygments_lexer": "ipython3",
   "version": "3.12.7"
  }
 },
 "nbformat": 4,
 "nbformat_minor": 5
}
